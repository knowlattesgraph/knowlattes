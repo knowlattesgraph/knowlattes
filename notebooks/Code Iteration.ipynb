{
 "cells": [
  {
   "cell_type": "code",
   "execution_count": 1,
   "metadata": {
    "ExecuteTime": {
     "end_time": "2019-10-07T21:25:45.475203Z",
     "start_time": "2019-10-07T21:25:42.134062Z"
    },
    "scrolled": true
   },
   "outputs": [
    {
     "name": "stdout",
     "output_type": "stream",
     "text": [
      "Looking in indexes: https://pypi.nubank.com.br/pypi/, https://pypi.python.org/simple\n",
      "Requirement already satisfied: pytidylib in /root/.local/lib/python3.6/site-packages (0.3.2)\n",
      "Requirement already satisfied: tidy in /root/.local/lib/python3.6/site-packages (2018.5)\n",
      "Requirement already satisfied: rdflib in /root/.local/lib/python3.6/site-packages (4.2.2)\n",
      "Requirement already satisfied: owlready2 in /root/.local/lib/python3.6/site-packages (0.21)\n",
      "Requirement already satisfied: Ontospy in /root/.local/lib/python3.6/site-packages (1.9.8.3)\n",
      "Requirement already satisfied: graphviz in /opt/conda/lib/python3.6/site-packages (0.13)\n",
      "Requirement already satisfied: tqdm in /opt/conda/lib/python3.6/site-packages (4.35.0)\n",
      "Requirement already satisfied: ipywidgets in /opt/conda/lib/python3.6/site-packages (7.4.2)\n",
      "Requirement already satisfied: python-Levenshtein in /root/.local/lib/python3.6/site-packages (0.12.0)\n",
      "Requirement already satisfied: rdflib-sqlalchemy in /root/.local/lib/python3.6/site-packages (0.3.8)\n",
      "Requirement already satisfied: sphinx in /root/.local/lib/python3.6/site-packages (from tidy) (2.2.0)\n",
      "Requirement already satisfied: docopt in /opt/conda/lib/python3.6/site-packages (from tidy) (0.6.2)\n",
      "Requirement already satisfied: pytest in /opt/conda/lib/python3.6/site-packages (from tidy) (3.7.4)\n",
      "Requirement already satisfied: sphinx-rtd-theme in /root/.local/lib/python3.6/site-packages (from tidy) (0.4.3)\n",
      "Requirement already satisfied: isodate in /root/.local/lib/python3.6/site-packages (from rdflib) (0.6.0)\n",
      "Requirement already satisfied: pyparsing in /opt/conda/lib/python3.6/site-packages (from rdflib) (2.3.1)\n",
      "Requirement already satisfied: pyfiglet in /root/.local/lib/python3.6/site-packages (from Ontospy) (0.8.post1)\n",
      "Requirement already satisfied: html5lib in /opt/conda/lib/python3.6/site-packages (from Ontospy) (0.9999999)\n",
      "Requirement already satisfied: rdflib-jsonld in /root/.local/lib/python3.6/site-packages (from Ontospy) (0.4.0)\n",
      "Requirement already satisfied: click in /opt/conda/lib/python3.6/site-packages (from Ontospy) (7.0)\n",
      "Requirement already satisfied: requests in /opt/conda/lib/python3.6/site-packages (from Ontospy) (2.22.0)\n",
      "Requirement already satisfied: keepalive in /root/.local/lib/python3.6/site-packages (from Ontospy) (0.5)\n",
      "Requirement already satisfied: SPARQLWrapper in /root/.local/lib/python3.6/site-packages (from Ontospy) (1.8.4)\n",
      "Requirement already satisfied: colorama in /root/.local/lib/python3.6/site-packages (from Ontospy) (0.4.1)\n",
      "Requirement already satisfied: ipython>=4.0.0; python_version >= \"3.3\" in /opt/conda/lib/python3.6/site-packages (from ipywidgets) (6.5.0)\n",
      "Requirement already satisfied: nbformat>=4.2.0 in /opt/conda/lib/python3.6/site-packages (from ipywidgets) (4.4.0)\n",
      "Requirement already satisfied: widgetsnbextension~=3.4.0 in /opt/conda/lib/python3.6/site-packages (from ipywidgets) (3.4.2)\n",
      "Requirement already satisfied: ipykernel>=4.5.1 in /opt/conda/lib/python3.6/site-packages (from ipywidgets) (5.1.0)\n",
      "Requirement already satisfied: traitlets>=4.3.1 in /opt/conda/lib/python3.6/site-packages (from ipywidgets) (4.3.2)\n",
      "Requirement already satisfied: setuptools in /opt/conda/lib/python3.6/site-packages (from python-Levenshtein) (40.0.0)\n",
      "Requirement already satisfied: alembic>=0.8.8 in /opt/conda/lib/python3.6/site-packages (from rdflib-sqlalchemy) (1.2.0)\n",
      "Requirement already satisfied: SQLAlchemy>=1.1.4 in /opt/conda/lib/python3.6/site-packages (from rdflib-sqlalchemy) (1.2.17)\n",
      "Requirement already satisfied: six>=1.10.0 in /opt/conda/lib/python3.6/site-packages (from rdflib-sqlalchemy) (1.12.0)\n",
      "Requirement already satisfied: packaging in /opt/conda/lib/python3.6/site-packages (from sphinx->tidy) (19.0)\n",
      "Requirement already satisfied: babel!=2.0,>=1.3 in /root/.local/lib/python3.6/site-packages (from sphinx->tidy) (2.7.0)\n",
      "Requirement already satisfied: sphinxcontrib-devhelp in /root/.local/lib/python3.6/site-packages (from sphinx->tidy) (1.0.1)\n",
      "Requirement already satisfied: sphinxcontrib-htmlhelp in /root/.local/lib/python3.6/site-packages (from sphinx->tidy) (1.0.2)\n",
      "Requirement already satisfied: sphinxcontrib-qthelp in /root/.local/lib/python3.6/site-packages (from sphinx->tidy) (1.0.2)\n",
      "Requirement already satisfied: docutils>=0.12 in /opt/conda/lib/python3.6/site-packages (from sphinx->tidy) (0.14)\n",
      "Requirement already satisfied: imagesize in /root/.local/lib/python3.6/site-packages (from sphinx->tidy) (1.1.0)\n",
      "Requirement already satisfied: Jinja2>=2.3 in /opt/conda/lib/python3.6/site-packages (from sphinx->tidy) (2.10.1)\n",
      "Requirement already satisfied: sphinxcontrib-applehelp in /root/.local/lib/python3.6/site-packages (from sphinx->tidy) (1.0.1)\n",
      "Requirement already satisfied: snowballstemmer>=1.1 in /root/.local/lib/python3.6/site-packages (from sphinx->tidy) (2.0.0)\n",
      "Requirement already satisfied: Pygments>=2.0 in /opt/conda/lib/python3.6/site-packages (from sphinx->tidy) (2.3.1)\n",
      "Requirement already satisfied: sphinxcontrib-serializinghtml in /root/.local/lib/python3.6/site-packages (from sphinx->tidy) (1.1.3)\n",
      "Requirement already satisfied: sphinxcontrib-jsmath in /root/.local/lib/python3.6/site-packages (from sphinx->tidy) (1.0.1)\n",
      "Requirement already satisfied: alabaster<0.8,>=0.7 in /root/.local/lib/python3.6/site-packages (from sphinx->tidy) (0.7.12)\n",
      "Requirement already satisfied: py>=1.5.0 in /opt/conda/lib/python3.6/site-packages (from pytest->tidy) (1.7.0)\n",
      "Requirement already satisfied: attrs>=17.4.0 in /opt/conda/lib/python3.6/site-packages (from pytest->tidy) (18.2.0)\n",
      "Requirement already satisfied: more-itertools>=4.0.0 in /opt/conda/lib/python3.6/site-packages (from pytest->tidy) (5.0.0)\n",
      "Requirement already satisfied: atomicwrites>=1.0 in /opt/conda/lib/python3.6/site-packages (from pytest->tidy) (1.2.1)\n",
      "Requirement already satisfied: pluggy>=0.7 in /opt/conda/lib/python3.6/site-packages (from pytest->tidy) (0.8.1)\n",
      "Requirement already satisfied: idna<2.9,>=2.5 in /opt/conda/lib/python3.6/site-packages (from requests->Ontospy) (2.7)\n",
      "Requirement already satisfied: certifi>=2017.4.17 in /opt/conda/lib/python3.6/site-packages (from requests->Ontospy) (2019.6.16)\n",
      "Requirement already satisfied: chardet<3.1.0,>=3.0.2 in /opt/conda/lib/python3.6/site-packages (from requests->Ontospy) (3.0.4)\n",
      "Requirement already satisfied: urllib3!=1.25.0,!=1.25.1,<1.26,>=1.21.1 in /opt/conda/lib/python3.6/site-packages (from requests->Ontospy) (1.22)\n",
      "Requirement already satisfied: pexpect; sys_platform != \"win32\" in /opt/conda/lib/python3.6/site-packages (from ipython>=4.0.0; python_version >= \"3.3\"->ipywidgets) (4.6.0)\n",
      "Requirement already satisfied: jedi>=0.10 in /opt/conda/lib/python3.6/site-packages (from ipython>=4.0.0; python_version >= \"3.3\"->ipywidgets) (0.13.2)\n",
      "Requirement already satisfied: pickleshare in /opt/conda/lib/python3.6/site-packages (from ipython>=4.0.0; python_version >= \"3.3\"->ipywidgets) (0.7.5)\n",
      "Requirement already satisfied: decorator in /opt/conda/lib/python3.6/site-packages (from ipython>=4.0.0; python_version >= \"3.3\"->ipywidgets) (4.3.2)\n",
      "Requirement already satisfied: prompt-toolkit<2.0.0,>=1.0.15 in /opt/conda/lib/python3.6/site-packages (from ipython>=4.0.0; python_version >= \"3.3\"->ipywidgets) (1.0.16)\n",
      "Requirement already satisfied: backcall in /opt/conda/lib/python3.6/site-packages (from ipython>=4.0.0; python_version >= \"3.3\"->ipywidgets) (0.1.0)\n",
      "Requirement already satisfied: simplegeneric>0.8 in /opt/conda/lib/python3.6/site-packages (from ipython>=4.0.0; python_version >= \"3.3\"->ipywidgets) (0.8.1)\n",
      "Requirement already satisfied: ipython-genutils in /opt/conda/lib/python3.6/site-packages (from nbformat>=4.2.0->ipywidgets) (0.2.0)\n",
      "Requirement already satisfied: jsonschema!=2.5.0,>=2.4 in /opt/conda/lib/python3.6/site-packages (from nbformat>=4.2.0->ipywidgets) (2.6.0)\n",
      "Requirement already satisfied: jupyter-core in /opt/conda/lib/python3.6/site-packages (from nbformat>=4.2.0->ipywidgets) (4.4.0)\n",
      "Requirement already satisfied: notebook>=4.4.1 in /opt/conda/lib/python3.6/site-packages (from widgetsnbextension~=3.4.0->ipywidgets) (5.6.0)\n",
      "Requirement already satisfied: tornado>=4.2 in /opt/conda/lib/python3.6/site-packages (from ipykernel>=4.5.1->ipywidgets) (5.1.1)\n",
      "Requirement already satisfied: jupyter-client in /opt/conda/lib/python3.6/site-packages (from ipykernel>=4.5.1->ipywidgets) (5.2.4)\n",
      "Requirement already satisfied: python-dateutil in /opt/conda/lib/python3.6/site-packages (from alembic>=0.8.8->rdflib-sqlalchemy) (2.7.5)\n",
      "Requirement already satisfied: python-editor>=0.3 in /opt/conda/lib/python3.6/site-packages (from alembic>=0.8.8->rdflib-sqlalchemy) (1.0.4)\n",
      "Requirement already satisfied: Mako in /opt/conda/lib/python3.6/site-packages (from alembic>=0.8.8->rdflib-sqlalchemy) (1.1.0)\n",
      "Requirement already satisfied: pytz>=2015.7 in /opt/conda/lib/python3.6/site-packages (from babel!=2.0,>=1.3->sphinx->tidy) (2018.9)\n",
      "Requirement already satisfied: MarkupSafe>=0.23 in /opt/conda/lib/python3.6/site-packages (from Jinja2>=2.3->sphinx->tidy) (1.1.0)\n",
      "Requirement already satisfied: ptyprocess>=0.5 in /opt/conda/lib/python3.6/site-packages (from pexpect; sys_platform != \"win32\"->ipython>=4.0.0; python_version >= \"3.3\"->ipywidgets) (0.6.0)\n",
      "Requirement already satisfied: parso>=0.3.0 in /opt/conda/lib/python3.6/site-packages (from jedi>=0.10->ipython>=4.0.0; python_version >= \"3.3\"->ipywidgets) (0.5.1)\n",
      "Requirement already satisfied: wcwidth in /opt/conda/lib/python3.6/site-packages (from prompt-toolkit<2.0.0,>=1.0.15->ipython>=4.0.0; python_version >= \"3.3\"->ipywidgets) (0.1.7)\n",
      "Requirement already satisfied: Send2Trash in /opt/conda/lib/python3.6/site-packages (from notebook>=4.4.1->widgetsnbextension~=3.4.0->ipywidgets) (1.5.0)\n",
      "Requirement already satisfied: pyzmq>=17 in /opt/conda/lib/python3.6/site-packages (from notebook>=4.4.1->widgetsnbextension~=3.4.0->ipywidgets) (17.1.2)\n",
      "Requirement already satisfied: nbconvert in /opt/conda/lib/python3.6/site-packages (from notebook>=4.4.1->widgetsnbextension~=3.4.0->ipywidgets) (5.6.0)\n"
     ]
    },
    {
     "name": "stdout",
     "output_type": "stream",
     "text": [
      "Requirement already satisfied: prometheus-client in /opt/conda/lib/python3.6/site-packages (from notebook>=4.4.1->widgetsnbextension~=3.4.0->ipywidgets) (0.5.0)\n",
      "Requirement already satisfied: terminado>=0.8.1 in /opt/conda/lib/python3.6/site-packages (from notebook>=4.4.1->widgetsnbextension~=3.4.0->ipywidgets) (0.8.1)\n",
      "Requirement already satisfied: defusedxml in /opt/conda/lib/python3.6/site-packages (from nbconvert->notebook>=4.4.1->widgetsnbextension~=3.4.0->ipywidgets) (0.6.0)\n",
      "Requirement already satisfied: bleach in /opt/conda/lib/python3.6/site-packages (from nbconvert->notebook>=4.4.1->widgetsnbextension~=3.4.0->ipywidgets) (1.5.0)\n",
      "Requirement already satisfied: testpath in /opt/conda/lib/python3.6/site-packages (from nbconvert->notebook>=4.4.1->widgetsnbextension~=3.4.0->ipywidgets) (0.4.2)\n",
      "Requirement already satisfied: entrypoints>=0.2.2 in /opt/conda/lib/python3.6/site-packages (from nbconvert->notebook>=4.4.1->widgetsnbextension~=3.4.0->ipywidgets) (0.3)\n",
      "Requirement already satisfied: mistune<2,>=0.8.1 in /opt/conda/lib/python3.6/site-packages (from nbconvert->notebook>=4.4.1->widgetsnbextension~=3.4.0->ipywidgets) (0.8.4)\n",
      "Requirement already satisfied: pandocfilters>=1.4.1 in /opt/conda/lib/python3.6/site-packages (from nbconvert->notebook>=4.4.1->widgetsnbextension~=3.4.0->ipywidgets) (1.4.2)\n",
      "Enabling notebook extension jupyter-js-widgets/extension...\n",
      "      - Validating: \u001b[32mOK\u001b[0m\n"
     ]
    }
   ],
   "source": [
    "!pip3 install pytidylib tidy rdflib owlready2 Ontospy graphviz tqdm ipywidgets python-Levenshtein rdflib-sqlalchemy --user\n",
    "!jupyter nbextension enable --py widgetsnbextension"
   ]
  },
  {
   "cell_type": "code",
   "execution_count": 2,
   "metadata": {
    "ExecuteTime": {
     "end_time": "2019-10-07T21:25:45.743568Z",
     "start_time": "2019-10-07T21:25:45.483871Z"
    }
   },
   "outputs": [],
   "source": [
    "from IPython.display import IFrame\n",
    "from parserLattes3 import ParserLattes\n",
    "import rdflib\n",
    "\n",
    "from tqdm import tnrange, tqdm_notebook"
   ]
  },
  {
   "cell_type": "code",
   "execution_count": 39,
   "metadata": {
    "ExecuteTime": {
     "end_time": "2019-10-07T21:34:20.461107Z",
     "start_time": "2019-10-07T21:34:20.457291Z"
    }
   },
   "outputs": [],
   "source": [
    "import sys\n",
    "\n",
    "ipython = get_ipython()\n",
    "\n",
    "\n",
    "def hide_traceback(exc_tuple=None, filename=None, tb_offset=None, exception_only=False, running_compiled_code=False):\n",
    "    etype, value, tb = sys.exc_info()\n",
    "    return ''\n",
    "#     return ipython._showtraceback(etype, value, ipython.InteractiveTB.get_exception_only(etype, value))\n",
    "\n",
    "\n",
    "ipython.showtraceback = hide_traceback"
   ]
  },
  {
   "cell_type": "markdown",
   "metadata": {},
   "source": [
    "# Getting the data"
   ]
  },
  {
   "cell_type": "code",
   "execution_count": 4,
   "metadata": {
    "ExecuteTime": {
     "end_time": "2019-10-07T21:25:45.770246Z",
     "start_time": "2019-10-07T21:25:45.765994Z"
    }
   },
   "outputs": [],
   "source": [
    "basePath = \"cache/\" \n",
    "cvPath = \"9788199690491510.html\"\n",
    "file = open(basePath+cvPath, 'r',  encoding=\"ISO-8859-1\")\n",
    "cvLattesHTML = file.read()"
   ]
  },
  {
   "cell_type": "code",
   "execution_count": 5,
   "metadata": {
    "ExecuteTime": {
     "end_time": "2019-10-07T21:25:45.788073Z",
     "start_time": "2019-10-07T21:25:45.777036Z"
    }
   },
   "outputs": [
    {
     "data": {
      "text/html": [
       "\n",
       "        <iframe\n",
       "            width=\"800\"\n",
       "            height=\"500\"\n",
       "            src=\"cache/9788199690491510.html\"\n",
       "            frameborder=\"0\"\n",
       "            allowfullscreen\n",
       "        ></iframe>\n",
       "        "
      ],
      "text/plain": [
       "<IPython.lib.display.IFrame at 0x7fca2e98ed30>"
      ]
     },
     "execution_count": 5,
     "metadata": {},
     "output_type": "execute_result"
    }
   ],
   "source": [
    "IFrame(basePath+cvPath, 800, 500)"
   ]
  },
  {
   "cell_type": "code",
   "execution_count": 6,
   "metadata": {
    "ExecuteTime": {
     "end_time": "2019-10-07T21:25:47.665360Z",
     "start_time": "2019-10-07T21:25:47.082977Z"
    }
   },
   "outputs": [],
   "source": [
    "import warnings\n",
    "\n",
    "warnings.filterwarnings(action=\"once\")\n",
    "\n",
    "lattes_page = ParserLattes(\"9788199690491510\", cvLattesHTML)"
   ]
  },
  {
   "cell_type": "markdown",
   "metadata": {},
   "source": [
    "### Now, we need to create the triple store"
   ]
  },
  {
   "cell_type": "markdown",
   "metadata": {},
   "source": [
    "# Schema.org"
   ]
  },
  {
   "cell_type": "markdown",
   "metadata": {},
   "source": [
    "### WHat if we dont use the ontology from ontolattes and yes the springnature ontology???\n",
    " - Sources\n",
    "   - http://www.linkeddatatools.com/semantic-modeling\n",
    "   - https://scigraph.springernature.com/explorer/datasets/ontology/\n",
    "   - https://medium.com/openlink-software-blog/sentences-notations-8b090cf28574#.8m00befqb\n",
    "   - (THE MOST IMPORTANT LINK: https://scigraph.springernature.com/explorer/datasets/data_at_a_glance/)\n",
    "     - Isso 'e estranho: Falando que nao usa mais ontologia e sim esse schema.org..."
   ]
  },
  {
   "cell_type": "code",
   "execution_count": 8,
   "metadata": {
    "ExecuteTime": {
     "end_time": "2019-10-07T21:25:48.373459Z",
     "start_time": "2019-10-07T21:25:48.354577Z"
    }
   },
   "outputs": [],
   "source": [
    "from rdflib import Graph, Literal, BNode, Namespace, RDF, URIRef\n",
    "from rdflib.namespace import DC, FOAF, RDF\n",
    "import ontospy\n",
    "import re"
   ]
  },
  {
   "cell_type": "markdown",
   "metadata": {},
   "source": [
    "### Apparently Springernature is using the schema.org ontology to describe theire data now"
   ]
  },
  {
   "cell_type": "code",
   "execution_count": 12,
   "metadata": {
    "ExecuteTime": {
     "end_time": "2019-10-07T21:25:49.739861Z",
     "start_time": "2019-10-07T21:25:49.737071Z"
    }
   },
   "outputs": [],
   "source": [
    "schemaDotOrg = Namespace(\"http://schema.org/version/latest/schema.nt#\")"
   ]
  },
  {
   "cell_type": "code",
   "execution_count": 13,
   "metadata": {
    "ExecuteTime": {
     "end_time": "2019-10-07T21:25:49.912462Z",
     "start_time": "2019-10-07T21:25:49.907561Z"
    },
    "scrolled": true
   },
   "outputs": [
    {
     "data": {
      "text/plain": [
       "rdflib.term.URIRef('http://schema.org/version/latest/schema.nt#type')"
      ]
     },
     "execution_count": 13,
     "metadata": {},
     "output_type": "execute_result"
    }
   ],
   "source": [
    "schemaDotOrg.type"
   ]
  },
  {
   "cell_type": "markdown",
   "metadata": {},
   "source": [
    "## Queting Sparkql"
   ]
  },
  {
   "cell_type": "code",
   "execution_count": 18,
   "metadata": {
    "ExecuteTime": {
     "end_time": "2019-10-07T21:25:52.917486Z",
     "start_time": "2019-10-07T21:25:51.348989Z"
    }
   },
   "outputs": [
    {
     "name": "stdout",
     "output_type": "stream",
     "text": [
      "Diego published Por que é difícil fraudar o resultado eleitoral (O Povo). 2018. (Programa de rádio ou of type 2018 in http://schema.org/version/latest/schema.nt#TechArticle\n",
      "Diego published Voto impresso, o retorno ao passado que opõe Bolsonaro e a Procuradoria Geral (El País). 2018. (Programa de rádio ou of type 2018 in http://schema.org/version/latest/schema.nt#TechArticle\n",
      "Diego published Declaração de Bolsonaro sobre fraude em urnas é 'desinformação', diz procurador (Huffpost Brasil). 2018. (Programa de rádio ou of type 2018 in http://schema.org/version/latest/schema.nt#TechArticle\n",
      "Diego published Brazilian government reiterates e-voting security (ZDNet). 2018. (Programa de rádio ou of type 2018 in http://schema.org/version/latest/schema.nt#TechArticle\n",
      "Diego published Reportagem mostra como funciona app de mensagens alvo da Justiça (Fantástico). 2016. (Programa de rádio ou of type 2016 in http://schema.org/version/latest/schema.nt#TechArticle\n",
      "Diego published Site publica informações falsas e distorcidas sobre ataque hacker à urna eletrônica (Aos Fatos). 2018. (Programa de rádio ou of type 2018 in http://schema.org/version/latest/schema.nt#TechArticle\n",
      "Diego published Urnas eletrônicas são realmente seguras? Entenda o processo eleitoral (Correio Braziliense). 2018. (Programa de rádio ou of type 2018 in http://schema.org/version/latest/schema.nt#TechArticle\n",
      "Diego published http://scigraph.springernature.com/pub.10.1016/j.micpro.2018.05.006 of type 2018 in http://schema.org/version/latest/schema.nt#ScholarlyArticle\n",
      "Diego published Você Fiscal, uma ferramenta para conferência paralela da votação (Estadão). 2014. (Programa de rádio ou of type 2014 in http://schema.org/version/latest/schema.nt#TechArticle\n",
      "Diego published Hackers na Câmara (TV Câmara). 2013. (Programa de rádio ou of type 2013 in http://schema.org/version/latest/schema.nt#TechArticle\n",
      "Diego published Software implementation of type 2016 in http://schema.org/version/latest/schema.nt#Book\n",
      "Diego published Hackers invadem sistema da Justiça Eleitoral e pegam dados confidenciais (TecMundo). 2018. (Programa de rádio ou of type 2018 in http://schema.org/version/latest/schema.nt#TechArticle\n",
      "Diego published PR/SP encaminha a MP Eleitoral procedimento para verificar segurança de urnas eletrônicas no Brasil (ASCOM-PRSP). 2014. (Programa de rádio ou of type 2014 in http://schema.org/version/latest/schema.nt#TechArticle\n",
      "Diego published Diego Aranha mostra que urnas eletrônicas não são tão confiáveis (Identidade Geral). 2015. (Programa de rádio ou of type 2015 in http://schema.org/version/latest/schema.nt#TechArticle\n",
      "Diego published Concordamos em discordar: as urnas eletrônicas são seguras? (Época). 2018. (Programa de rádio ou of type 2018 in http://schema.org/version/latest/schema.nt#TechArticle\n",
      "Diego published http://scigraph.springernature.com/pub.10.1093/comjnl/bxr089 of type 2012 in http://schema.org/version/latest/schema.nt#ScholarlyArticle\n",
      "Diego published Internet a serviço da democracia (SEESP). 2016. (Programa de rádio ou of type 2016 in http://schema.org/version/latest/schema.nt#TechArticle\n",
      "Diego published Reforma electoral en la ciudad (NCN). 2018. (Programa de rádio ou of type 2018 in http://schema.org/version/latest/schema.nt#TechArticle\n",
      "Diego published Brasileiros colocam a mão no bolso para fiscalizar eleição e cobrar eleitos (IG). 2014. (Programa de rádio ou of type 2014 in http://schema.org/version/latest/schema.nt#TechArticle\n",
      "Diego published Saiba como empresas e governos lutam para proteger (ou desbloquear) as suas informações (Galileu). 2016. (Programa de rádio ou of type 2016 in http://schema.org/version/latest/schema.nt#TechArticle\n",
      "Diego published Protocolo de autenticação para transações bancárias (ZTec) of type 2015 in http://schema.org/version/latest/schema.nt#TechArticle\n",
      "Diego published Fragilidade de urna abre caminho para voto de cabresto digital (Viomundo). 2012. (Programa de rádio ou of type 2012 in http://schema.org/version/latest/schema.nt#TechArticle\n",
      "Diego published Professor da Computação é premiado por aplicativo que fiscaliza votação eletrônica (Portal UNICAMP). 2015. (Programa de rádio ou of type 2015 in http://schema.org/version/latest/schema.nt#TechArticle\n",
      "Diego published O Computador para o Século 21: Desafios de Segurança e Privacidade após 25 anos of type 2017 in http://schema.org/version/latest/schema.nt#Book\n",
      "Diego published Teste feito por equipe da Unicamp revelou falhas de segurança nas urnas eletrônica (Jornal do Senado). 2018. (Programa de rádio ou of type 2018 in http://schema.org/version/latest/schema.nt#TechArticle\n",
      "Diego published TSE afirma que vai abrir o código-fonte das urnas eletrônicas 'em breve' (Olhar Digital). 2018. (Programa de rádio ou of type 2018 in http://schema.org/version/latest/schema.nt#TechArticle\n",
      "Diego published Sistema Eleitoral Brasileiro (Conexão Brasil). 2013. (Programa de rádio ou of type 2013 in http://schema.org/version/latest/schema.nt#TechArticle\n",
      "Diego published Não há registro comprovado de fraude em urnas eletrônicas, diz perito da PF (RedeTV). 2018. (Programa de rádio ou of type 2018 in http://schema.org/version/latest/schema.nt#TechArticle\n",
      "Diego published Professor da Unicamp lança aplicativo que identifica fraudes em urnas eletrônicas (InfoMoney). 2014. (Programa de rádio ou of type 2014 in http://schema.org/version/latest/schema.nt#TechArticle\n",
      "Diego published Urna eletrônica é vulnerável e pode ser fraudada, diz especialista (Portal Correio). 2018. (Programa de rádio ou of type 2018 in http://schema.org/version/latest/schema.nt#TechArticle\n",
      "Diego published http://scigraph.springernature.com/pub.10.1016/j.comcom.2010.05.013 of type 2011 in http://schema.org/version/latest/schema.nt#ScholarlyArticle\n",
      "Diego published Los riesgos del voto electrónico (Notícias SER). 2018. (Programa de rádio ou of type 2018 in http://schema.org/version/latest/schema.nt#TechArticle\n",
      "Diego published Brazil?s voters worry about the integrity of their elections (The Economist). 2018. (Programa de rádio ou of type 2018 in http://schema.org/version/latest/schema.nt#TechArticle\n",
      "Diego published Aplicativos ajudam eleitores na busca pelo voto consciente, dizem especialistas (Portal Imprensa). 2014. (Programa de rádio ou of type 2014 in http://schema.org/version/latest/schema.nt#TechArticle\n",
      "Diego published Urna é a mais defasada, diz professor que violou sistema do TSE (Terra). 2012. (Programa de rádio ou of type 2012 in http://schema.org/version/latest/schema.nt#TechArticle\n",
      "Diego published App Você Fiscal vai fazer apuração paralela das eleições (Exame). 2014. (Programa de rádio ou of type 2014 in http://schema.org/version/latest/schema.nt#TechArticle\n",
      "Diego published Aplicativo de celular fiscaliza a eficiência da urna eletrônica (El País). 2014. (Programa de rádio ou of type 2014 in http://schema.org/version/latest/schema.nt#TechArticle\n",
      "Diego published Segurança do voto eletrônico (Transamérica Brasília). 2017. (Programa de rádio ou of type 2017 in http://schema.org/version/latest/schema.nt#TechArticle\n",
      "Diego published Eleição no RS terá 27.049 urnas (Sul 21). 2014. (Programa de rádio ou of type 2014 in http://schema.org/version/latest/schema.nt#TechArticle\n",
      "Diego published Investigadores do TPS relatam experiência no evento e falam sobre achados relevantes encontrados (TSE). 2017. (Programa de rádio ou of type 2017 in http://schema.org/version/latest/schema.nt#TechArticle\n",
      "Diego published Aplicativo incentiva eleitores a fiscalizar urnas eletrônicas (O Globo). 2014. (Programa de rádio ou of type 2014 in http://schema.org/version/latest/schema.nt#TechArticle\n",
      "Diego published Moeda tem origem em mina no computador (Estado de Minas). 2014. (Programa de rádio ou of type 2014 in http://schema.org/version/latest/schema.nt#TechArticle\n",
      "Diego published Teste feito por especialistas aponta falhas em urna eletrônica (Record). 2014. (Programa de rádio ou of type 2014 in http://schema.org/version/latest/schema.nt#TechArticle\n",
      "Diego published Em debate com especialistas, TSE defende segurança das urnas (Estadão). 2018. (Programa de rádio ou of type 2018 in http://schema.org/version/latest/schema.nt#TechArticle\n",
      "Diego published Urnas fechadas para TI (América Economia). 2013. (Programa de rádio ou of type 2013 in http://schema.org/version/latest/schema.nt#TechArticle\n",
      "Diego published http://scigraph.springernature.com/pub.10.1186/s13174-017-0073-0 of type 2018 in http://schema.org/version/latest/schema.nt#ScholarlyArticle\n",
      "Diego published Especialistas divergem sobre segurança da urna eletrônica (RedeTV). 2014. (Programa de rádio ou of type 2014 in http://schema.org/version/latest/schema.nt#TechArticle\n",
      "Diego published Elections in Brazil: fear before the voting machine (Spiegel). 2018. (Programa de rádio ou of type 2018 in http://schema.org/version/latest/schema.nt#TechArticle\n",
      "Diego published Você confia na urna eletrônica? (Segunda Chamada). 2018. (Programa de rádio ou of type 2018 in http://schema.org/version/latest/schema.nt#TechArticle\n",
      "Diego published App 'Você Fiscal' convida cidadão a fiscalizar a apuração das eleições (EBC). 2014. (Programa de rádio ou of type 2014 in http://schema.org/version/latest/schema.nt#TechArticle\n",
      "Diego published Mesário pode alterar dados de urnas eletrônicas durante eleições, diz especialista (Bahia Notícias). 2016. (Programa de rádio ou of type 2016 in http://schema.org/version/latest/schema.nt#TechArticle\n",
      "Diego published A urna eletrônica que está em uso compromete a segurança do voto (Trendline). 2013. (Programa de rádio ou of type 2013 in http://schema.org/version/latest/schema.nt#TechArticle\n",
      "Diego published Pesquisa feita na Unicamp é escolhida pelo Google (Correio Popular). 2015. (Programa de rádio ou of type 2015 in http://schema.org/version/latest/schema.nt#TechArticle\n",
      "Diego published Os testes de segurança (nas urnas eletrônicas) são importantes e desejáveis, mas continuam insuficientes (ESET). 2018. (Programa de rádio ou of type 2018 in http://schema.org/version/latest/schema.nt#TechArticle\n",
      "Diego published Urna eletrônica: entenda o sistema usado nas eleições 2018 (Estadão). 2018. (Programa de rádio ou of type 2018 in http://schema.org/version/latest/schema.nt#TechArticle\n",
      "Diego published Suas senhas são fortes contra invasão de hackers? (Diário Catarinense). 2015. (Programa de rádio ou of type 2015 in http://schema.org/version/latest/schema.nt#TechArticle\n",
      "Diego published http://scigraph.springernature.com/pub.10.1109/MSEC.2018.2874855 of type 2018 in http://schema.org/version/latest/schema.nt#ScholarlyArticle\n",
      "Diego published In a blow to e-voting critics, Brazil suspends use of all paper ballots (Ars Technica). 2018. (Programa de rádio ou of type 2018 in http://schema.org/version/latest/schema.nt#TechArticle\n",
      "Diego published Este pesquisador garante que as urnas eletrônicas são hackeáveis (Motherboard). 2018. (Programa de rádio ou of type 2018 in http://schema.org/version/latest/schema.nt#TechArticle\n",
      "Diego published Entenda como funciona a urna eletrônica brasileira e saiba quais polêmicas a cercam (Yahoo). 2018. (Programa de rádio ou of type 2018 in http://schema.org/version/latest/schema.nt#TechArticle\n",
      "Diego published El especialista brasileño que descubrió las fallas del voto electrónico en su país (La Nación). 2017. (Programa de rádio ou of type 2017 in http://schema.org/version/latest/schema.nt#TechArticle\n",
      "Diego published Urna eletrônica é vulnerável, mostram testes (Congresso em Foco). 2016. (Programa de rádio ou of type 2016 in http://schema.org/version/latest/schema.nt#TechArticle\n",
      "Diego published Voto impresso: quais os argumentos de defensores e críticos (Nexo). 2018. (Programa de rádio ou of type 2018 in http://schema.org/version/latest/schema.nt#TechArticle\n",
      "Diego published Urna eletrônica: As ações da Justiça Eleitoral contra fraudes no sistema (HuffPost Brasil). 2018. (Programa de rádio ou of type 2018 in http://schema.org/version/latest/schema.nt#TechArticle\n",
      "Diego published Urna eletrônica possui falhas (A Tarde). 2014. (Programa de rádio ou of type 2014 in http://schema.org/version/latest/schema.nt#TechArticle\n",
      "Diego published http://scigraph.springernature.com/pub.10.1109/MSEC.2018.2875318 of type 2018 in http://schema.org/version/latest/schema.nt#ScholarlyArticle\n",
      "Diego published http://scigraph.springernature.com/pub.10.1186/s13174-017-0070-3 of type 2017 in http://schema.org/version/latest/schema.nt#ScholarlyArticle\n",
      "Diego published http://scigraph.springernature.com/pub.10.1186/s13174-018-0086-3 of type 2018 in http://schema.org/version/latest/schema.nt#ScholarlyArticle\n",
      "Diego published O terrorismo das redes sociais (Exame). 2017. (Programa de rádio ou of type 2017 in http://schema.org/version/latest/schema.nt#TechArticle\n",
      "Diego published http://scigraph.springernature.com/pub.10.1109/msec.2018.2875324 of type 2018 in http://schema.org/version/latest/schema.nt#ScholarlyArticle\n",
      "Diego published WhatsApp no STF (Segurança Legal). 2017. (Programa de rádio ou of type 2017 in http://schema.org/version/latest/schema.nt#TechArticle\n",
      "Diego published TSE não fará teste público das urnas eletrônicas antes das eleições (O Globo). 2014. (Programa de rádio ou of type 2014 in http://schema.org/version/latest/schema.nt#TechArticle\n",
      "Diego published Como funcionam as urnas eletrônicas (Globo Ciência). 2012. (Programa de rádio ou of type 2012 in http://schema.org/version/latest/schema.nt#TechArticle\n",
      "Diego published Denúncia de fraude na Venezuela reacende debate: as urnas eletrônicas são seguras? (Gazeta do Povo). 2017. (Programa de rádio ou of type 2017 in http://schema.org/version/latest/schema.nt#TechArticle\n",
      "Diego published Pesquisa da Unicamp mostra fragilidades de apps bancários (IO Pub). 2015. (Programa de rádio ou of type 2015 in http://schema.org/version/latest/schema.nt#TechArticle\n",
      "Diego published http://scigraph.springernature.com/pub.10.1016/j.cose.2019.06.009 of type 2019 in http://schema.org/version/latest/schema.nt#ScholarlyArticle\n",
      "Diego published Eleições 2014: professor afirma existir algumas falhas na urna eletrônica (Record). 2014. (Programa de rádio ou of type 2014 in http://schema.org/version/latest/schema.nt#TechArticle\n",
      "Diego published Urna eletrônica brasileira não assegura sigilo de voto (Terra). 2012. (Programa de rádio ou of type 2012 in http://schema.org/version/latest/schema.nt#TechArticle\n",
      "Diego published A democracia pode ser hackeada, entenda as urnas eletrônicas (Brotherscast). 2019. (Programa de rádio ou of type 2019 in http://schema.org/version/latest/schema.nt#TechArticle\n",
      "Diego published Internet-based and open source: How e-voting works around the globe (Ars Technica). 2012. (Programa de rádio ou of type 2012 in http://schema.org/version/latest/schema.nt#TechArticle\n",
      "Diego published Progress in Cryptology - LATINCRYPT 2014 of type 2015 in http://schema.org/version/latest/schema.nt#Book\n",
      "Diego published Error 404: vote not found (Puchero News). 2017. (Programa de rádio ou of type 2017 in http://schema.org/version/latest/schema.nt#TechArticle\n",
      "Diego published Apps de bancos brasileiros têm deficiências de segurança, diz pesquisa (G1). 2015. (Programa de rádio ou of type 2015 in http://schema.org/version/latest/schema.nt#TechArticle\n",
      "Diego published Professor: urna brasileira abre brecha para voto de cabresto (Terra). 2012. (Programa de rádio ou of type 2012 in http://schema.org/version/latest/schema.nt#TechArticle\n",
      "Diego published Falha em site expõe dados de 500 mil servidores públicos de SP (Folha). 2014. (Programa de rádio ou of type 2014 in http://schema.org/version/latest/schema.nt#TechArticle\n",
      "Diego published Implementação Eficiente e Segura de Algoritmos Criptográficos of type 2015 in http://schema.org/version/latest/schema.nt#Book\n",
      "Diego published Nova quebra de segurança conseguiu alterar software da urna eletrônica (Convergência Digital). 2017. (Programa de rádio ou of type 2017 in http://schema.org/version/latest/schema.nt#TechArticle\n",
      "Diego published Serpro: um guardião contra a bisbilhotagem eletrônica (O Globo). 2013. (Programa de rádio ou of type 2013 in http://schema.org/version/latest/schema.nt#TechArticle\n",
      "Diego published Fraud possible in Brazil's e-voting system (ZDNet). 2014. (Programa de rádio ou of type 2014 in http://schema.org/version/latest/schema.nt#TechArticle\n",
      "Diego published On the Identity-Based Encryption for WM²Nets of type 2008 in http://schema.org/version/latest/schema.nt#Book\n",
      "Diego published Criptografia: a linguagem cifrada do Egito antigo até o menino do Acre (UOL). 2017. (Programa de rádio ou of type 2017 in http://schema.org/version/latest/schema.nt#TechArticle\n",
      "Diego published App promete barrar fraude na apuração em eleições (Catraca Livre). 2014. (Programa de rádio ou of type 2014 in http://schema.org/version/latest/schema.nt#TechArticle\n",
      "Diego published Voto impresso: desconfiança nas urnas eletrônicas vale 2 bilhões? (Exame). 2018. (Programa de rádio ou of type 2018 in http://schema.org/version/latest/schema.nt#TechArticle\n",
      "Diego published Tecnologia biométrica está na moda, mas apresenta falhas (CBN). 2015. (Programa de rádio ou of type 2015 in http://schema.org/version/latest/schema.nt#TechArticle\n",
      "Diego published Canais laterais em criptografia simétrica e de curvas elípticas: ataques e contramedidas of type 2016 in http://schema.org/version/latest/schema.nt#Book\n",
      "Diego published O algoritmo é mais embaixo (UOL Tab). 2018. (Programa de rádio ou of type 2018 in http://schema.org/version/latest/schema.nt#TechArticle\n",
      "Diego published Os entraves para o TSE implementar o voto impresso na urna eletrônica (Huffpost Brasil). 2018. (Programa de rádio ou of type 2018 in http://schema.org/version/latest/schema.nt#TechArticle\n",
      "Diego published Vulnerabilidades, Criptografia e Urnas Eletrônicas - Parte I (SecurityCast). 2016. (Programa de rádio ou of type 2016 in http://schema.org/version/latest/schema.nt#TechArticle\n",
      "Diego published http://scigraph.springernature.com/pub.10.1007/s13389-019-00218-2 of type 2019 in http://schema.org/version/latest/schema.nt#ScholarlyArticle\n",
      "Diego published ​Uma quadrilha pretendia ganhar dinheiro 'fraudando' as eleições. 2016. (Programa de rádio ou of type 2016 in http://schema.org/version/latest/schema.nt#TechArticle\n",
      "Diego published Diego Aranha, 32, Criou uma plataforma para que a sociedade fiscalize o resultado das eleições (MIT Technology Review). 2015. (Programa de rádio ou of type 2015 in http://schema.org/version/latest/schema.nt#TechArticle\n",
      "Diego published Urnas eletrônicas: falhas, vulnerabilidades e fraudes do mesário (TecMundo). 2017. (Programa de rádio ou of type 2017 in http://schema.org/version/latest/schema.nt#TechArticle\n",
      "Diego published Aplicativo para fiscalizar eleição arrecada R$ 30 mil em doações (G1). 2014. (Programa de rádio ou of type 2014 in http://schema.org/version/latest/schema.nt#TechArticle\n",
      "Diego published A polêmica da segurança das urnas eletrônicas (Entre Aspas). 2017. (Programa de rádio ou of type 2017 in http://schema.org/version/latest/schema.nt#TechArticle\n",
      "Diego published Internet fixa ilimitada pode estar com os dias contados no Brasil (Fantástico). 2016. (Programa de rádio ou of type 2016 in http://schema.org/version/latest/schema.nt#TechArticle\n",
      "Diego published O homem contra a urna eletrônica (Motherboard). 2014. (Programa de rádio ou of type 2014 in http://schema.org/version/latest/schema.nt#TechArticle\n",
      "Diego published Urna eletrônica não é 100% segura. Mas isso não significa que a eleição é fraudada (Gazeta do Povo). 2018. (Programa de rádio ou of type 2018 in http://schema.org/version/latest/schema.nt#TechArticle\n",
      "Diego published Acabou o espaço? Saiba onde salvar as fotos do seu celular na internet (R7). 2017. (Programa de rádio ou of type 2017 in http://schema.org/version/latest/schema.nt#TechArticle\n",
      "Diego published Criptografia: entenda o que é e como funciona (G1). 2016. (Programa de rádio ou of type 2016 in http://schema.org/version/latest/schema.nt#TechArticle\n",
      "Diego published Avaliação de segurança de aplicativos bancários (Segurança Legal). 2015. (Programa de rádio ou of type 2015 in http://schema.org/version/latest/schema.nt#TechArticle\n",
      "Diego published Urnas eletrônicas são motivos de desconfiança do eleitor (Rádio Aparecida). 2018. (Programa de rádio ou of type 2018 in http://schema.org/version/latest/schema.nt#TechArticle\n",
      "Diego published Especialista questiona funcionalidade da urna para plebiscito (G1). 2013. (Programa de rádio ou of type 2013 in http://schema.org/version/latest/schema.nt#TechArticle\n",
      "Diego published Aumenta a espionagem no mundo conectado (IT Forum). 2015. (Programa de rádio ou of type 2015 in http://schema.org/version/latest/schema.nt#TechArticle\n",
      "Diego published Segurança no Voto Eletrônico (TV Unicamp). 2014. (Programa de rádio ou of type 2014 in http://schema.org/version/latest/schema.nt#TechArticle\n",
      "Diego published Especial Ekoparty 2017: hablemos de Voto electrónico? en serio (Tecnozona). 2017. (Programa de rádio ou of type 2017 in http://schema.org/version/latest/schema.nt#TechArticle\n",
      "Diego published Ele está por trás da maior ?operação antifraude? das urnas. Mas frauda o próprio currículo (Intercept). 2018. (Programa de rádio ou of type 2018 in http://schema.org/version/latest/schema.nt#TechArticle\n",
      "Diego published Aplicativo para celular vai fiscalizar a urna eletrônica (Jornal de Londrina). 2014. (Programa de rádio ou of type 2014 in http://schema.org/version/latest/schema.nt#TechArticle\n",
      "Diego published Três fatos sobre a segurança das urnas eletrônicas (Aos Fatos). 2018. (Programa de rádio ou of type 2018 in http://schema.org/version/latest/schema.nt#TechArticle\n",
      "Diego published Após apontar falha, professor planeja criar urna eletrônica 'ideal' na Unicamp (G1). 2014. (Programa de rádio ou of type 2014 in http://schema.org/version/latest/schema.nt#TechArticle\n",
      "Diego published As urnas eletrônicas brasileiras são confiáveis? Nós ajudamos a responder (Yahoo). 2018. (Programa de rádio ou of type 2018 in http://schema.org/version/latest/schema.nt#TechArticle\n",
      "Diego published Vulnerabilidades, Criptografia e Urnas Eletrônicas - Parte II (SecurityCast). 2016. (Programa de rádio ou of type 2016 in http://schema.org/version/latest/schema.nt#TechArticle\n",
      "Diego published Por qué el voto electrónico falló en Brasil (El Fueguino). 2018. (Programa de rádio ou of type 2018 in http://schema.org/version/latest/schema.nt#TechArticle\n",
      "Diego published Segurança da Urna Eletrônica (Segurança Legal). 2015. (Programa de rádio ou of type 2015 in http://schema.org/version/latest/schema.nt#TechArticle\n",
      "Diego published http://scigraph.springernature.com/pub.10.1007/s13389-011-0017-8 of type 2011 in http://schema.org/version/latest/schema.nt#ScholarlyArticle\n",
      "Diego published La seguridad en torno a las urnas electrónicas: un debate que sigue vigente en Brasil (ESET). 2018. (Programa de rádio ou of type 2018 in http://schema.org/version/latest/schema.nt#TechArticle\n",
      "Diego published http://scigraph.springernature.com/pub.10.1186/s13174-018-0095-2 of type 2018 in http://schema.org/version/latest/schema.nt#ScholarlyArticle\n",
      "Diego published Blockchain e a inviolabilidade do voto (Estadão). 2016. (Programa de rádio ou of type 2016 in http://schema.org/version/latest/schema.nt#TechArticle\n",
      "Diego published (In)segurança das urnas eletrônicas (The Noite). 2014. (Programa de rádio ou of type 2014 in http://schema.org/version/latest/schema.nt#TechArticle\n",
      "Diego published A segurança da urna eletrônica nas eleições de 2018 (Segurança Legal). 2018. (Programa de rádio ou of type 2018 in http://schema.org/version/latest/schema.nt#TechArticle\n",
      "Diego published TSE fará testes periódicos da urna eletrônica; especialistas veem falta de isenção (UOL). 2015. (Programa de rádio ou of type 2015 in http://schema.org/version/latest/schema.nt#TechArticle\n",
      "Diego published Em meio a debate sobre segurança, TSE planeja colocar código da urna na internet (Folha). 2018. (Programa de rádio ou of type 2018 in http://schema.org/version/latest/schema.nt#TechArticle\n",
      "Diego published Experts debunk strong encryption claims by FBI's Comey (Search Security). 2017. (Programa de rádio ou of type 2017 in http://schema.org/version/latest/schema.nt#TechArticle\n",
      "Diego published Criptografia e Eleições (Papo Binário #4). 2016. (Programa de rádio ou of type 2016 in http://schema.org/version/latest/schema.nt#TechArticle\n",
      "Diego published A urna eletrônica é segura? Especialistas discordam (Exame). 2018. (Programa de rádio ou of type 2018 in http://schema.org/version/latest/schema.nt#TechArticle\n",
      "Diego published Teste feito por equipe da Unicamp revelou falhas de segurança nas urnas eletrônicas, TSE diz abrir código-fonte (Engenharia É). 2018. (Programa de rádio ou of type 2018 in http://schema.org/version/latest/schema.nt#TechArticle\n",
      "Diego published http://scigraph.springernature.com/pub. of type 2014 in http://schema.org/version/latest/schema.nt#ScholarlyArticle\n",
      "Diego published http://scigraph.springernature.com/pub. of type 2019 in http://schema.org/version/latest/schema.nt#ScholarlyArticle\n",
      "Diego published http://scigraph.springernature.com/pub. of type 2018 in http://schema.org/version/latest/schema.nt#ScholarlyArticle\n",
      "Diego published A chance de viver fora do Brasil (IstoÉ). 2018. (Programa de rádio ou of type 2018 in http://schema.org/version/latest/schema.nt#TechArticle\n",
      "Diego published Papo por rascunho de email não é o melhor jeito de ocultar informação (Motherboard). 2017. (Programa de rádio ou of type 2017 in http://schema.org/version/latest/schema.nt#TechArticle\n",
      "Diego published Academia versus Mercado ? Entrevista com Diego Aranha (IO Pub). 2015. (Programa de rádio ou of type 2015 in http://schema.org/version/latest/schema.nt#TechArticle\n",
      "Diego published http://scigraph.springernature.com/pub.10.1093/comjnl/bxw053 of type 2016 in http://schema.org/version/latest/schema.nt#ScholarlyArticle\n",
      "Diego published O aparato tecnológico que protege Temer (Motherboard). 2017. (Programa de rádio ou of type 2017 in http://schema.org/version/latest/schema.nt#TechArticle\n",
      "Diego published Software Vulnerabilities in the Brazilian Voting Machine of type 2014 in http://schema.org/version/latest/schema.nt#Book\n",
      "Diego published Urnas eletrônicas brasileiras são confiáveis? (Tribuna do Advogado). 2017. (Programa de rádio ou of type 2017 in http://schema.org/version/latest/schema.nt#TechArticle\n",
      "Diego published Embrapa usa sistema de segurança da NSA (Folha). 2013. (Programa de rádio ou of type 2013 in http://schema.org/version/latest/schema.nt#TechArticle\n",
      "Diego published Impressão de voto vai custar R$ 2,5 bi, diz TSE (Estadão). 2017. (Programa de rádio ou of type 2017 in http://schema.org/version/latest/schema.nt#TechArticle\n",
      "Diego published O que muda caso o voto impresso seja aprovado para 2018 (HuffPost Brasil). 2017. (Programa de rádio ou of type 2017 in http://schema.org/version/latest/schema.nt#TechArticle\n",
      "Diego published As urnas são seguras mesmo? (IstoÉ). 2012. (Programa de rádio ou of type 2012 in http://schema.org/version/latest/schema.nt#TechArticle\n",
      "Diego published Vitória do voto impresso não exclui a necessidade urgente de implantação da biometria (IIMA). 2015. (Programa de rádio ou of type 2015 in http://schema.org/version/latest/schema.nt#TechArticle\n",
      "Diego published Pesquisadores avaliam limitações de segurança das urnas eletrônicas (Portal Unicamp). 2018. (Programa de rádio ou of type 2018 in http://schema.org/version/latest/schema.nt#TechArticle\n",
      "Diego published Brazil cans e-voting due to recession (ZDNet). 2015. (Programa de rádio ou of type 2015 in http://schema.org/version/latest/schema.nt#TechArticle\n",
      "Diego published Diego Aranha aponta falhas nos aplicativos de bancos (Identidade Geral). 2015. (Programa de rádio ou of type 2015 in http://schema.org/version/latest/schema.nt#TechArticle\n",
      "Diego published Mais de 22 milhões de eleitores serão identificados por biometria (RedeTV). 2014. (Programa de rádio ou of type 2014 in http://schema.org/version/latest/schema.nt#TechArticle\n",
      "Diego published App ajuda a auditar os resultados da urna eletrônica no seu local de votação. 2014. (Programa de rádio ou of type 2014 in http://schema.org/version/latest/schema.nt#TechArticle\n",
      "Diego published Segurança das urnas eletrônicas são testadas para as eleições 2018 (RIT Notícias). 2018. (Programa de rádio ou of type 2018 in http://schema.org/version/latest/schema.nt#TechArticle\n",
      "Diego published Críticos pedem mudanças em votação eletrônica; TSE defende modelo atual (Folha). 2012. (Programa de rádio ou of type 2012 in http://schema.org/version/latest/schema.nt#TechArticle\n",
      "Diego published Hackers do bem' se reúnem em BH pela segurança na internet (SBT). 2016. (Programa de rádio ou of type 2016 in http://schema.org/version/latest/schema.nt#TechArticle\n",
      "Diego published Professor que encontrou falhas na urna eletrônica deixará o Brasil (Tecmundo). 2018. (Programa de rádio ou of type 2018 in http://schema.org/version/latest/schema.nt#TechArticle\n",
      "Diego published Ciberataque pode acontecer com qualquer pessoa', explica professor da Unicamp (Rádio Globo). 2017. (Programa de rádio ou of type 2017 in http://schema.org/version/latest/schema.nt#TechArticle\n",
      "Diego published http://scigraph.springernature.com/pub.10.3934/amc.2010.4.169 of type 2010 in http://schema.org/version/latest/schema.nt#ScholarlyArticle\n",
      "Diego published Por qué el voto electrónico falló en Brasil (La Nación). 2017. (Programa de rádio ou of type 2017 in http://schema.org/version/latest/schema.nt#TechArticle\n",
      "Diego published Falha na urna brasileira reproduzia fielmente erro de 1995, diz professor (G1). 2012. (Programa de rádio ou of type 2012 in http://schema.org/version/latest/schema.nt#TechArticle\n",
      "Diego published http://scigraph.springernature.com/pub.10.1007/s12243-016-0511-1 of type 2016 in http://schema.org/version/latest/schema.nt#ScholarlyArticle\n",
      "Diego published Urnas eletrônicas brasileiras são testadas e apresentam novas falhas (TecMundo). 2017. (Programa de rádio ou of type 2017 in http://schema.org/version/latest/schema.nt#TechArticle\n",
      "Diego published http://scigraph.springernature.com/pub.10.1007/s13389-013-0069-z of type 2014 in http://schema.org/version/latest/schema.nt#ScholarlyArticle\n",
      "Diego published RS terá mais de 1,3 mil urnas eletrônicas com impressoras nas eleições de 2018 (Beta). 2018. (Programa de rádio ou of type 2018 in http://schema.org/version/latest/schema.nt#TechArticle\n",
      "Diego published Análise de Segurança de Software para Teste Assistido por Computador (CESPE/UnB) of type 2013 in http://schema.org/version/latest/schema.nt#TechArticle\n",
      "Diego published Especialistas defendem voto impresso para recontagem de resultado de eleição. 2013. (Programa de rádio ou of type 2013 in http://schema.org/version/latest/schema.nt#TechArticle\n",
      "Diego published Desconfiança geral contra classe política 'invade' urna eletrônica (A Gazeta). 2018. (Programa de rádio ou of type 2018 in http://schema.org/version/latest/schema.nt#TechArticle\n",
      "Diego published Escovamos bits com Diego Aranha na UNICAMP (IO Pub). 2015. (Programa de rádio ou of type 2015 in http://schema.org/version/latest/schema.nt#TechArticle\n",
      "Diego published Urna eletrônica é ágil, não segura (Correio da PB). 2018. (Programa de rádio ou of type 2018 in http://schema.org/version/latest/schema.nt#TechArticle\n",
      "Diego published Pesquisadores da Unicamp são premiados com bolsas do Google (Portal Unicamp). 2016. (Programa de rádio ou of type 2016 in http://schema.org/version/latest/schema.nt#TechArticle\n",
      "Diego published Google anuncia projetos de pesquisa vencedores de concurso no Brasil (Folha). 2015. (Programa de rádio ou of type 2015 in http://schema.org/version/latest/schema.nt#TechArticle\n",
      "Diego published Pai da urna eletrônica preocupa-se com futuro de sua cria (Folha). 2018. (Programa de rádio ou of type 2018 in http://schema.org/version/latest/schema.nt#TechArticle\n",
      "Diego published Biometria não garante sistema eleitoral mais seguro na hora de votar (Estadão). 2013. (Programa de rádio ou of type 2013 in http://schema.org/version/latest/schema.nt#TechArticle\n",
      "Diego published Depois de quebra do sigilo da urna, TSE evita novos testes (Convergência Digital). 2014. (Programa de rádio ou of type 2014 in http://schema.org/version/latest/schema.nt#TechArticle\n",
      "Diego published Campanha vai criar aplicativo para fiscalizar eleições (Correio Braziliense). 2014. (Programa de rádio ou of type 2014 in http://schema.org/version/latest/schema.nt#TechArticle\n",
      "Diego published Senate NSA bill would expand requirements of phone companies (RT). 2015. (Programa de rádio ou of type 2015 in http://schema.org/version/latest/schema.nt#TechArticle\n",
      "Diego published TSE aponta dificuldades para implementar voto impresso no país (G1). 2015. (Programa de rádio ou of type 2015 in http://schema.org/version/latest/schema.nt#TechArticle\n",
      "Diego published Voto electrónico, democracia amenazada? (Otrawebdetecno). 2017. (Programa de rádio ou of type 2017 in http://schema.org/version/latest/schema.nt#TechArticle\n",
      "Diego published Professor do IC é contemplado com bolsa de pesquisa da Google (Portal UNICAMP). 2015. (Programa de rádio ou of type 2015 in http://schema.org/version/latest/schema.nt#TechArticle\n",
      "Diego published http://scigraph.springernature.com/pub.10.1016/j.cose.2019.101583 of type 2019 in http://schema.org/version/latest/schema.nt#ScholarlyArticle\n",
      "Diego published Por que abrir o código-fonte das urnas eletrônicas é tão importante (Olhar Digital). 2018. (Programa de rádio ou of type 2018 in http://schema.org/version/latest/schema.nt#TechArticle\n",
      "Diego published Estes brasileiros querem salvar nossos computadores do caos quântico (Vice). 2017. (Programa de rádio ou of type 2017 in http://schema.org/version/latest/schema.nt#TechArticle\n",
      "Diego published Urna eletrônica completa 18 anos com comemoração do TSE e preocupação de especialistas (Estado de Minas). 2014. (Programa de rádio ou of type 2014 in http://schema.org/version/latest/schema.nt#TechArticle\n",
      "Diego published Urna eletrônica, um debate sobre segurança usado por Bolsonaro como ameaça (El País). 2018. (Programa de rádio ou of type 2018 in http://schema.org/version/latest/schema.nt#TechArticle\n",
      "Diego published Você confia na urna eletrônica? (GQ). 2012. (Programa de rádio ou of type 2012 in http://schema.org/version/latest/schema.nt#TechArticle\n",
      "Diego published Anais do XIV Simpósio Brasileiro em Segurança da Informação e de Sistemas Computacionais (SBSEG) of type 2014 in http://schema.org/version/latest/schema.nt#Book\n",
      "Diego published Testes mostram falhas, mas TSE diz que urna eletrônica é confiável (R7). 2018. (Programa de rádio ou of type 2018 in http://schema.org/version/latest/schema.nt#TechArticle\n",
      "Diego published Urna eletrônica chega à 12ª eleição no país sob ataque inédito (Folha). 2018. (Programa de rádio ou of type 2018 in http://schema.org/version/latest/schema.nt#TechArticle\n",
      "Diego published Por um processo eleitoral mais confiável (Jornal de Brasília). 2015. (Programa de rádio ou of type 2015 in http://schema.org/version/latest/schema.nt#TechArticle\n",
      "Diego published Você Fiscal: aplicativo quer apuração paralela das eleições (Contas Abertas). 2014. (Programa de rádio ou of type 2014 in http://schema.org/version/latest/schema.nt#TechArticle\n",
      "Diego published Pesquisa investigativa confirma falhas de segurança nas urnas eletrônicas do país (Gazeta AM). 2015. (Programa de rádio ou of type 2015 in http://schema.org/version/latest/schema.nt#TechArticle\n",
      "Diego published http://scigraph.springernature.com/pub.10.1002/cpe.5089 of type 2018 in http://schema.org/version/latest/schema.nt#ScholarlyArticle\n",
      "Diego published Os cientistas explicam como as urnas eletrônicas podem ser mais seguras (ICMC). 2018. (Programa de rádio ou of type 2018 in http://schema.org/version/latest/schema.nt#TechArticle\n",
      "Diego published Marco Civil da Internet: saiba como funciona a criptografia (Futura). 2017. (Programa de rádio ou of type 2017 in http://schema.org/version/latest/schema.nt#TechArticle\n",
      "Diego published Fraudes e falta de auditoria deixam urna vulnerável, apontam especialistas (UOL). 2014. (Programa de rádio ou of type 2014 in http://schema.org/version/latest/schema.nt#TechArticle\n",
      "Diego published Professores da Unicamp e do MIT desenvolvem aplicativos para eleições mais transparentes (O Globo). 2014. (Programa de rádio ou of type 2014 in http://schema.org/version/latest/schema.nt#TechArticle\n"
     ]
    }
   ],
   "source": [
    "qres = graph.query(\n",
    "    \"\"\"\n",
    "    SELECT \n",
    "        ?author\n",
    "        ?project\n",
    "        ?year\n",
    "        ?type\n",
    "   WHERE {\n",
    "      ?project schema:author ?uri .\n",
    "      ?uri schema:givenName ?author .\n",
    "      ?project schema:datePublished ?year .\n",
    "      ?project schema:type ?type .\n",
    "   }\n",
    "\"\"\",\n",
    "    initNs={\"schema\": schemaDotOrg},\n",
    ")\n",
    "\n",
    "for row in qres:\n",
    "    print(\"%s published %s of type %s in %s\" % row)"
   ]
  },
  {
   "cell_type": "code",
   "execution_count": null,
   "metadata": {
    "ExecuteTime": {
     "end_time": "2019-10-07T21:25:52.930212Z",
     "start_time": "2019-10-07T21:25:51.577Z"
    }
   },
   "outputs": [],
   "source": [
    "graph.close()  # https://rdflib.readthedocs.io/en/stable/persistence.html"
   ]
  },
  {
   "cell_type": "markdown",
   "metadata": {},
   "source": [
    "# Making a function for adding triples from a given lattes page"
   ]
  },
  {
   "cell_type": "code",
   "execution_count": null,
   "metadata": {
    "ExecuteTime": {
     "end_time": "2019-10-07T21:25:52.932633Z",
     "start_time": "2019-10-07T21:25:52.058Z"
    },
    "scrolled": true
   },
   "outputs": [],
   "source": [
    "lattes_page = ParserLattes(\"9788199690491510\", cvLattesHTML)"
   ]
  },
  {
   "cell_type": "code",
   "execution_count": 28,
   "metadata": {
    "ExecuteTime": {
     "end_time": "2019-10-07T21:26:41.840143Z",
     "start_time": "2019-10-07T21:26:41.818897Z"
    }
   },
   "outputs": [],
   "source": [
    "def add_lattes_reasercher_to_graph(graph, lattes_page, schema):\n",
    "    import hashlib\n",
    "\n",
    "    from rdflib import Graph, Literal, BNode, Namespace, RDF, URIRef\n",
    "    from rdflib.namespace import DC, FOAF, RDF\n",
    "    from toolz import curry\n",
    "\n",
    "    @curry\n",
    "    def add_non_duplicated(triple_or_quad, graph):\n",
    "        ### Maybe using a try catch\n",
    "        if triple_or_quad not in graph:\n",
    "            graph.add(triple_or_quad)\n",
    "\n",
    "    add_triple = add_non_duplicated(graph=graph)\n",
    "\n",
    "    uri = lattes_page.idMembro\n",
    "    name = lattes_page.nomeCompleto\n",
    "    first_name = name.split(\" \")[0]\n",
    "    family_name = \" \".join(name.split(\" \")[1:])\n",
    "    gender = lattes_page.sexo\n",
    "\n",
    "    researcher = URIRef(uri)\n",
    "\n",
    "    add_triple((researcher, schema.type, schema.Person))\n",
    "    add_triple((researcher, schema.name, Literal(name)))\n",
    "    add_triple((researcher, schema.familyName, Literal(family_name)))\n",
    "    add_triple((researcher, schema.givenName, Literal(first_name)))\n",
    "    add_triple((researcher, schema.gender, Literal(gender)))\n",
    "\n",
    "    # Check if the ID in listaIDLattesColaboradores is the same as uri (as in uri = lattes_page.idMembro)\n",
    "    for colaborador in sorted(lattes_page.listaIDLattesColaboradores):\n",
    "        # I assume the colaborator will be added to type Person in a different iteration.\n",
    "        add_triple((researcher, schema.knows, URIRef(colaborador)))\n",
    "\n",
    "    for idioma in lattes_page.listaIdioma:\n",
    "        nome_idioma = idioma.nome\n",
    "        add_triple((URIRef(nome_idioma), schema.type, schema.Language))\n",
    "        add_triple((researcher, schema.knowsLanguage, Literal(nome_idioma)))\n",
    "\n",
    "    for formacao_academica in lattes_page.listaFormacaoAcademica:\n",
    "        tipo_formacao = formacao_academica.tipo\n",
    "        instituicao = formacao_academica.nomeInstituicao\n",
    "        instituicao_md5 = hashlib.md5(instituicao.encode(\"utf-8\")).hexdigest()\n",
    "\n",
    "        add_triple((URIRef(instituicao_md5), schema.type, schema.EducationalOrganization))\n",
    "        add_triple((URIRef(instituicao_md5), schema.name, Literal(instituicao)))\n",
    "        add_triple((researcher, schema.hasCredential, Literal(tipo_formacao)))\n",
    "        add_triple((researcher, schema.alumniOf, Literal(instituicao)))\n",
    "\n",
    "    for artigo_periodico in lattes_page.listaArtigoEmPeriodico:\n",
    "        doi_url = artigo_periodico.doi\n",
    "        # Added springer nature format (we can remove later if needed)\n",
    "        doi = re.sub(\"http://dx.doi.org/\", \"\", doi_url)\n",
    "        sameAsSpriger = \"http://scigraph.springernature.com/\" + \"pub.\" + re.sub(\"http://dx.doi.org/\", \"\", doi_url)\n",
    "        # We are not using 'autores' for now.\n",
    "        autores = artigo_periodico.autores\n",
    "        ano = artigo_periodico.ano\n",
    "        titulo = artigo_periodico.titulo\n",
    "        genre = \"artigo em periodico\"\n",
    "\n",
    "        if doi != \"\":\n",
    "            add_triple((URIRef(doi), schema.name, Literal(titulo)))\n",
    "            add_triple((URIRef(doi), schema.type, schema.ScholarlyArticle))\n",
    "            add_triple((URIRef(doi), schema.author, researcher))\n",
    "            add_triple((URIRef(doi), schema.datePublished, Literal(ano)))\n",
    "            add_triple((URIRef(doi), schema.genre, Literal(genre)))\n",
    "            add_triple((URIRef(doi), schema.sameAs, URIRef(sameAsSpriger)))\n",
    "\n",
    "    for artigo_aceito in lattes_page.listaArtigoAceito:\n",
    "        doi_url = artigo_periodico.doi\n",
    "        doi = re.sub(\"http://dx.doi.org/\", \"\", doi_url)\n",
    "        # Added springer nature format (we can remove later if needed)\n",
    "        sameAsSpriger = \"http://scigraph.springernature.com/\" + \"pub.\" + re.sub(\"http://dx.doi.org/\", \"\", doi_url)\n",
    "        autores = artigo_aceito.autores\n",
    "        ano = artigo_aceito.ano\n",
    "        titulo = artigo_aceito.titulo\n",
    "        genre = \"artigo aceito para publicacao\"\n",
    "\n",
    "        if doi != \"\":\n",
    "            add_triple((URIRef(doi), schema.type, schema.ScholarlyArticle))\n",
    "            add_triple((URIRef(doi), schema.author, researcher))\n",
    "            add_triple((URIRef(doi), schema.datePublished, Literal(ano)))\n",
    "            add_triple((URIRef(doi), schema.name, Literal(titulo)))\n",
    "            add_triple((URIRef(doi), schema.genre, Literal(genre)))\n",
    "            add_triple((URIRef(doi), schema.sameAs, URIRef(sameAsSpriger)))\n",
    "\n",
    "    for projeto_de_pesquisa in lattes_page.listaProjetoDePesquisa:\n",
    "        ano = projeto_de_pesquisa.ano\n",
    "        descricao = projeto_de_pesquisa.descricao\n",
    "        nome = projeto_de_pesquisa.nome\n",
    "        nome_md5 = hashlib.md5(nome.encode(\"utf-8\")).hexdigest()\n",
    "\n",
    "        add_triple((URIRef(nome_md5), schema.name, Literal(nome)))\n",
    "        add_triple((URIRef(nome_md5), schema.type, schema.ResearchProject))\n",
    "        # Maybe this property does not exist\n",
    "        add_triple((URIRef(nome_md5), schema.year, Literal(ano)))\n",
    "        add_triple((URIRef(nome_md5), schema.description, Literal(descricao)))\n",
    "        add_triple((URIRef(nome_md5), schema.author, researcher))\n",
    "\n",
    "    for trabalho_tecnico in lattes_page.listaTrabalhoTecnico:\n",
    "        # We are not using 'autores' for now.\n",
    "        autores = trabalho_tecnico.autores\n",
    "        ano = trabalho_tecnico.ano\n",
    "        titulo = trabalho_tecnico.titulo\n",
    "        genre = \"trabalho tecnico\"\n",
    "        nome_md5 = hashlib.md5(titulo.encode(\"utf-8\")).hexdigest()\n",
    "\n",
    "        add_triple((URIRef(nome_md5), schema.name, Literal(titulo)))\n",
    "        add_triple((URIRef(nome_md5), schema.type, schema.TechArticle))\n",
    "        add_triple((URIRef(nome_md5), schema.datePublished, Literal(ano)))\n",
    "        add_triple((URIRef(nome_md5), schema.author, researcher))\n",
    "        add_triple((URIRef(nome_md5), schema.genre, Literal(genre)))\n",
    "\n",
    "    for livro in lattes_page.listaLivroPublicado:\n",
    "        ano = livro.ano\n",
    "        titulo = livro.titulo\n",
    "        # We are not using 'autores' for now.\n",
    "        autores = livro.autores\n",
    "        edicao = livro.edicao\n",
    "        editora = livro.editora\n",
    "        paginas = livro.paginas\n",
    "        nome_md5 = hashlib.md5(titulo.encode(\"utf-8\")).hexdigest()\n",
    "\n",
    "        add_triple((URIRef(nome_md5), schema.name, Literal(titulo)))\n",
    "        add_triple((URIRef(nome_md5), schema.type, schema.Book))\n",
    "        add_triple((URIRef(nome_md5), schema.datePublished, Literal(ano)))\n",
    "        # Use researcher or 'autores'?\n",
    "        add_triple((URIRef(nome_md5), schema.author, researcher))\n",
    "        add_triple((URIRef(nome_md5), schema.bookEdition, Literal(edicao)))\n",
    "        add_triple((URIRef(nome_md5), schema.editor, Literal(editora)))\n",
    "        add_triple((URIRef(nome_md5), schema.numberOfPages, Literal(paginas)))\n",
    "\n",
    "    for capitulo_livro in lattes_page.listaCapituloDeLivroPublicado:\n",
    "        ano = capitulo_livro.ano\n",
    "        titulo = capitulo_livro.titulo\n",
    "        # We are not using 'autores' for now.\n",
    "        autores = capitulo_livro.autores\n",
    "        editora = capitulo_livro.editora\n",
    "        paginas = capitulo_livro.paginas\n",
    "        livro = capitulo_livro.livro\n",
    "        nome_md5 = hashlib.md5(titulo.encode(\"utf-8\")).hexdigest()\n",
    "\n",
    "        add_triple((URIRef(nome_md5), schema.name, Literal(titulo)))\n",
    "        add_triple((URIRef(nome_md5), schema.type, schema.Book))\n",
    "        add_triple((URIRef(nome_md5), schema.datePublished, Literal(ano)))\n",
    "        # Use researcher or 'autores'?\n",
    "        add_triple((URIRef(nome_md5), schema.author, researcher))\n",
    "        add_triple((URIRef(nome_md5), schema.isPartOf, Literal(livro)))\n",
    "        add_triple((URIRef(nome_md5), schema.editor, Literal(editora)))\n",
    "        add_triple((URIRef(nome_md5), schema.pagination, Literal(paginas)))"
   ]
  },
  {
   "cell_type": "code",
   "execution_count": 29,
   "metadata": {
    "ExecuteTime": {
     "end_time": "2019-10-07T21:26:42.328311Z",
     "start_time": "2019-10-07T21:26:42.190932Z"
    }
   },
   "outputs": [
    {
     "name": "stdout",
     "output_type": "stream",
     "text": [
      "Creating the file to output: sqlite:////root/work/experiments/tcc/python_lattes_parser/pythonLattes/development.sqlite\n"
     ]
    },
    {
     "data": {
      "text/plain": [
       "1"
      ]
     },
     "execution_count": 29,
     "metadata": {},
     "output_type": "execute_result"
    }
   ],
   "source": [
    "from rdflib import plugin\n",
    "from rdflib.store import Store\n",
    "from rdflib_sqlalchemy import registerplugins\n",
    "import os\n",
    "\n",
    "registerplugins()\n",
    "\n",
    "schema = Namespace(\"http://schema.org/version/latest/schema.nt#\")\n",
    "\n",
    "SQLALCHEMY_URL = \"sqlite:///%(here)s/development.sqlite\" % {\"here\": os.getcwd()}\n",
    "print(f\"Creating the file to output: {SQLALCHEMY_URL}\")\n",
    "store = plugin.get(\"SQLAlchemy\", Store)()\n",
    "\n",
    "graph = Graph(store)\n",
    "graph.open(SQLALCHEMY_URL, create=True)"
   ]
  },
  {
   "cell_type": "code",
   "execution_count": 30,
   "metadata": {
    "ExecuteTime": {
     "end_time": "2019-10-07T21:27:02.703696Z",
     "start_time": "2019-10-07T21:26:42.667498Z"
    }
   },
   "outputs": [],
   "source": [
    "add_lattes_reasercher_to_graph(graph, lattes_page, schema)"
   ]
  },
  {
   "cell_type": "code",
   "execution_count": 31,
   "metadata": {
    "ExecuteTime": {
     "end_time": "2019-10-07T21:28:33.057824Z",
     "start_time": "2019-10-07T21:28:29.684964Z"
    }
   },
   "outputs": [
    {
     "name": "stdout",
     "output_type": "stream",
     "text": [
      "Diego published Building Secure Protocols for Extensible Distributed Coordination through Secure Extensions in 2019 of type http://schema.org/version/latest/schema.nt#ScholarlyArticle\n",
      "Diego published The Return of Software Vulnerabilities in the Brazilian Voting Machine in 2019 of type http://schema.org/version/latest/schema.nt#ScholarlyArticle\n",
      "Diego published Efficient and secure software implementations of Fantomas in 2019 of type http://schema.org/version/latest/schema.nt#ScholarlyArticle\n",
      "Diego published A framework for searching encrypted databases in 2018 of type http://schema.org/version/latest/schema.nt#ScholarlyArticle\n",
      "Diego published Fog orchestration for the Internet of Everything: state-of-the-art and research challenges in 2018 of type http://schema.org/version/latest/schema.nt#ScholarlyArticle\n",
      "Diego published CRPUF: A modeling-resistant delay PUF based on cylindrical reconvergence in 2018 of type http://schema.org/version/latest/schema.nt#ScholarlyArticle\n",
      "Diego published Research in Security and Privacy in Brazil in 2018 of type http://schema.org/version/latest/schema.nt#ScholarlyArticle\n",
      "Diego published The Good, the Bad, and the Ugly: Two Decades of E-Voting in Brazil in 2018 of type http://schema.org/version/latest/schema.nt#ScholarlyArticle\n",
      "Diego published NIZKCTF: A Noninteractive Zero-Knowledge Capture-the-Flag Platform in 2018 of type http://schema.org/version/latest/schema.nt#ScholarlyArticle\n",
      "Diego published The computer for the 21st century: present security in 2018 of type http://schema.org/version/latest/schema.nt#ScholarlyArticle\n",
      "Diego published Optimized implementation of QC-MDPC code-based cryptography in 2018 of type http://schema.org/version/latest/schema.nt#ScholarlyArticle\n",
      "Diego published Providing privacy on the tuple space model in 2017 of type http://schema.org/version/latest/schema.nt#ScholarlyArticle\n",
      "Diego published Crowdsourced integrity verification of election results in 2016 of type http://schema.org/version/latest/schema.nt#ScholarlyArticle\n",
      "Diego published Elliptic Curve Multiset Hash in 2016 of type http://schema.org/version/latest/schema.nt#ScholarlyArticle\n",
      "Diego published Two is the fastest prime: lambda coordinates for binary elliptic curves in 2014 of type http://schema.org/version/latest/schema.nt#ScholarlyArticle\n",
      "Diego published Secure-TWS: Authenticating Node to Multi-user Communication in Shared Sensor Networks in 2012 of type http://schema.org/version/latest/schema.nt#ScholarlyArticle\n",
      "Diego published Speeding scalar multiplication over binary elliptic curves using the new carry-less multiplication instruction in 2011 of type http://schema.org/version/latest/schema.nt#ScholarlyArticle\n",
      "Diego published TinyPBC: Pairings for authenticated identity-based non-interactive key distribution in sensor networks in 2011 of type http://schema.org/version/latest/schema.nt#ScholarlyArticle\n",
      "Diego published Efficient implementation of elliptic curve cryptography in wireless sensors in 2010 of type http://schema.org/version/latest/schema.nt#ScholarlyArticle\n",
      "Diego published Recovering decimation-based cryptographic sequences by means of linear CAs in 2010 of type http://schema.org/version/latest/schema.nt#ScholarlyArticle\n",
      "Diego published Efficient implementation of elliptic curve cryptography in wireless sensors in 2019 of type http://schema.org/version/latest/schema.nt#ScholarlyArticle\n",
      "Diego published Recovering decimation-based cryptographic sequences by means of linear CAs in 2019 of type http://schema.org/version/latest/schema.nt#ScholarlyArticle\n",
      "Diego published Protocolo de autenticação para transações bancárias (ZTec) in 2015 of type http://schema.org/version/latest/schema.nt#TechArticle\n",
      "Diego published Análise de Segurança de Software para Teste Assistido por Computador (CESPE/UnB) in 2013 of type http://schema.org/version/latest/schema.nt#TechArticle\n",
      "Diego published A democracia pode ser hackeada, entenda as urnas eletrônicas (Brotherscast). 2019. (Programa de rádio ou in 2019 of type http://schema.org/version/latest/schema.nt#TechArticle\n",
      "Diego published Urnas eletrônicas são realmente seguras? Entenda o processo eleitoral (Correio Braziliense). 2018. (Programa de rádio ou in 2018 of type http://schema.org/version/latest/schema.nt#TechArticle\n",
      "Diego published Os entraves para o TSE implementar o voto impresso na urna eletrônica (Huffpost Brasil). 2018. (Programa de rádio ou in 2018 of type http://schema.org/version/latest/schema.nt#TechArticle\n",
      "Diego published Voto impresso: quais os argumentos de defensores e críticos (Nexo). 2018. (Programa de rádio ou in 2018 of type http://schema.org/version/latest/schema.nt#TechArticle\n",
      "Diego published Voto impresso: desconfiança nas urnas eletrônicas vale 2 bilhões? (Exame). 2018. (Programa de rádio ou in 2018 of type http://schema.org/version/latest/schema.nt#TechArticle\n",
      "Diego published Desconfiança geral contra classe política 'invade' urna eletrônica (A Gazeta). 2018. (Programa de rádio ou in 2018 of type http://schema.org/version/latest/schema.nt#TechArticle\n",
      "Diego published Teste feito por equipe da Unicamp revelou falhas de segurança nas urnas eletrônica (Jornal do Senado). 2018. (Programa de rádio ou in 2018 of type http://schema.org/version/latest/schema.nt#TechArticle\n",
      "Diego published A segurança da urna eletrônica nas eleições de 2018 (Segurança Legal). 2018. (Programa de rádio ou in 2018 of type http://schema.org/version/latest/schema.nt#TechArticle\n",
      "Diego published Pesquisadores avaliam limitações de segurança das urnas eletrônicas (Portal Unicamp). 2018. (Programa de rádio ou in 2018 of type http://schema.org/version/latest/schema.nt#TechArticle\n",
      "Diego published Urna eletrônica é vulnerável e pode ser fraudada, diz especialista (Portal Correio). 2018. (Programa de rádio ou in 2018 of type http://schema.org/version/latest/schema.nt#TechArticle\n",
      "Diego published Pai da urna eletrônica preocupa-se com futuro de sua cria (Folha). 2018. (Programa de rádio ou in 2018 of type http://schema.org/version/latest/schema.nt#TechArticle\n",
      "Diego published Voto impresso, o retorno ao passado que opõe Bolsonaro e a Procuradoria Geral (El País). 2018. (Programa de rádio ou in 2018 of type http://schema.org/version/latest/schema.nt#TechArticle\n",
      "Diego published O algoritmo é mais embaixo (UOL Tab). 2018. (Programa de rádio ou in 2018 of type http://schema.org/version/latest/schema.nt#TechArticle\n",
      "Diego published Urna eletrônica é ágil, não segura (Correio da PB). 2018. (Programa de rádio ou in 2018 of type http://schema.org/version/latest/schema.nt#TechArticle\n",
      "Diego published Testes mostram falhas, mas TSE diz que urna eletrônica é confiável (R7). 2018. (Programa de rádio ou in 2018 of type http://schema.org/version/latest/schema.nt#TechArticle\n",
      "Diego published Segurança das urnas eletrônicas são testadas para as eleições 2018 (RIT Notícias). 2018. (Programa de rádio ou in 2018 of type http://schema.org/version/latest/schema.nt#TechArticle\n",
      "Diego published Este pesquisador garante que as urnas eletrônicas são hackeáveis (Motherboard). 2018. (Programa de rádio ou in 2018 of type http://schema.org/version/latest/schema.nt#TechArticle\n",
      "Diego published RS terá mais de 1,3 mil urnas eletrônicas com impressoras nas eleições de 2018 (Beta). 2018. (Programa de rádio ou in 2018 of type http://schema.org/version/latest/schema.nt#TechArticle\n",
      "Diego published In a blow to e-voting critics, Brazil suspends use of all paper ballots (Ars Technica). 2018. (Programa de rádio ou in 2018 of type http://schema.org/version/latest/schema.nt#TechArticle\n",
      "Diego published Professor que encontrou falhas na urna eletrônica deixará o Brasil (Tecmundo). 2018. (Programa de rádio ou in 2018 of type http://schema.org/version/latest/schema.nt#TechArticle\n",
      "Diego published A chance de viver fora do Brasil (IstoÉ). 2018. (Programa de rádio ou in 2018 of type http://schema.org/version/latest/schema.nt#TechArticle\n",
      "Diego published Urna eletrônica: entenda o sistema usado nas eleições 2018 (Estadão). 2018. (Programa de rádio ou in 2018 of type http://schema.org/version/latest/schema.nt#TechArticle\n",
      "Diego published Entenda como funciona a urna eletrônica brasileira e saiba quais polêmicas a cercam (Yahoo). 2018. (Programa de rádio ou in 2018 of type http://schema.org/version/latest/schema.nt#TechArticle\n",
      "Diego published Site publica informações falsas e distorcidas sobre ataque hacker à urna eletrônica (Aos Fatos). 2018. (Programa de rádio ou in 2018 of type http://schema.org/version/latest/schema.nt#TechArticle\n"
     ]
    },
    {
     "name": "stdout",
     "output_type": "stream",
     "text": [
      "Diego published Por qué el voto electrónico falló en Brasil (El Fueguino). 2018. (Programa de rádio ou in 2018 of type http://schema.org/version/latest/schema.nt#TechArticle\n",
      "Diego published Urna eletrônica: As ações da Justiça Eleitoral contra fraudes no sistema (HuffPost Brasil). 2018. (Programa de rádio ou in 2018 of type http://schema.org/version/latest/schema.nt#TechArticle\n",
      "Diego published Los riesgos del voto electrónico (Notícias SER). 2018. (Programa de rádio ou in 2018 of type http://schema.org/version/latest/schema.nt#TechArticle\n",
      "Diego published Você confia na urna eletrônica? (Segunda Chamada). 2018. (Programa de rádio ou in 2018 of type http://schema.org/version/latest/schema.nt#TechArticle\n",
      "Diego published Reforma electoral en la ciudad (NCN). 2018. (Programa de rádio ou in 2018 of type http://schema.org/version/latest/schema.nt#TechArticle\n",
      "Diego published Os cientistas explicam como as urnas eletrônicas podem ser mais seguras (ICMC). 2018. (Programa de rádio ou in 2018 of type http://schema.org/version/latest/schema.nt#TechArticle\n",
      "Diego published Por que é difícil fraudar o resultado eleitoral (O Povo). 2018. (Programa de rádio ou in 2018 of type http://schema.org/version/latest/schema.nt#TechArticle\n",
      "Diego published Em debate com especialistas, TSE defende segurança das urnas (Estadão). 2018. (Programa de rádio ou in 2018 of type http://schema.org/version/latest/schema.nt#TechArticle\n",
      "Diego published TSE afirma que vai abrir o código-fonte das urnas eletrônicas 'em breve' (Olhar Digital). 2018. (Programa de rádio ou in 2018 of type http://schema.org/version/latest/schema.nt#TechArticle\n",
      "Diego published Em meio a debate sobre segurança, TSE planeja colocar código da urna na internet (Folha). 2018. (Programa de rádio ou in 2018 of type http://schema.org/version/latest/schema.nt#TechArticle\n",
      "Diego published A urna eletrônica é segura? Especialistas discordam (Exame). 2018. (Programa de rádio ou in 2018 of type http://schema.org/version/latest/schema.nt#TechArticle\n",
      "Diego published Urna eletrônica, um debate sobre segurança usado por Bolsonaro como ameaça (El País). 2018. (Programa de rádio ou in 2018 of type http://schema.org/version/latest/schema.nt#TechArticle\n",
      "Diego published Teste feito por equipe da Unicamp revelou falhas de segurança nas urnas eletrônicas, TSE diz abrir código-fonte (Engenharia É). 2018. (Programa de rádio ou in 2018 of type http://schema.org/version/latest/schema.nt#TechArticle\n",
      "Diego published Urna eletrônica não é 100% segura. Mas isso não significa que a eleição é fraudada (Gazeta do Povo). 2018. (Programa de rádio ou in 2018 of type http://schema.org/version/latest/schema.nt#TechArticle\n",
      "Diego published Declaração de Bolsonaro sobre fraude em urnas é 'desinformação', diz procurador (Huffpost Brasil). 2018. (Programa de rádio ou in 2018 of type http://schema.org/version/latest/schema.nt#TechArticle\n",
      "Diego published As urnas eletrônicas brasileiras são confiáveis? Nós ajudamos a responder (Yahoo). 2018. (Programa de rádio ou in 2018 of type http://schema.org/version/latest/schema.nt#TechArticle\n",
      "Diego published Por que abrir o código-fonte das urnas eletrônicas é tão importante (Olhar Digital). 2018. (Programa de rádio ou in 2018 of type http://schema.org/version/latest/schema.nt#TechArticle\n",
      "Diego published Não há registro comprovado de fraude em urnas eletrônicas, diz perito da PF (RedeTV). 2018. (Programa de rádio ou in 2018 of type http://schema.org/version/latest/schema.nt#TechArticle\n",
      "Diego published Brazil?s voters worry about the integrity of their elections (The Economist). 2018. (Programa de rádio ou in 2018 of type http://schema.org/version/latest/schema.nt#TechArticle\n",
      "Diego published Urna eletrônica chega à 12ª eleição no país sob ataque inédito (Folha). 2018. (Programa de rádio ou in 2018 of type http://schema.org/version/latest/schema.nt#TechArticle\n",
      "Diego published Três fatos sobre a segurança das urnas eletrônicas (Aos Fatos). 2018. (Programa de rádio ou in 2018 of type http://schema.org/version/latest/schema.nt#TechArticle\n",
      "Diego published Concordamos em discordar: as urnas eletrônicas são seguras? (Época). 2018. (Programa de rádio ou in 2018 of type http://schema.org/version/latest/schema.nt#TechArticle\n",
      "Diego published Ele está por trás da maior ?operação antifraude? das urnas. Mas frauda o próprio currículo (Intercept). 2018. (Programa de rádio ou in 2018 of type http://schema.org/version/latest/schema.nt#TechArticle\n",
      "Diego published Os testes de segurança (nas urnas eletrônicas) são importantes e desejáveis, mas continuam insuficientes (ESET). 2018. (Programa de rádio ou in 2018 of type http://schema.org/version/latest/schema.nt#TechArticle\n",
      "Diego published La seguridad en torno a las urnas electrónicas: un debate que sigue vigente en Brasil (ESET). 2018. (Programa de rádio ou in 2018 of type http://schema.org/version/latest/schema.nt#TechArticle\n",
      "Diego published Elections in Brazil: fear before the voting machine (Spiegel). 2018. (Programa de rádio ou in 2018 of type http://schema.org/version/latest/schema.nt#TechArticle\n",
      "Diego published Brazilian government reiterates e-voting security (ZDNet). 2018. (Programa de rádio ou in 2018 of type http://schema.org/version/latest/schema.nt#TechArticle\n",
      "Diego published Hackers invadem sistema da Justiça Eleitoral e pegam dados confidenciais (TecMundo). 2018. (Programa de rádio ou in 2018 of type http://schema.org/version/latest/schema.nt#TechArticle\n",
      "Diego published Urnas eletrônicas são motivos de desconfiança do eleitor (Rádio Aparecida). 2018. (Programa de rádio ou in 2018 of type http://schema.org/version/latest/schema.nt#TechArticle\n",
      "Diego published Experts debunk strong encryption claims by FBI's Comey (Search Security). 2017. (Programa de rádio ou in 2017 of type http://schema.org/version/latest/schema.nt#TechArticle\n",
      "Diego published Criptografia: a linguagem cifrada do Egito antigo até o menino do Acre (UOL). 2017. (Programa de rádio ou in 2017 of type http://schema.org/version/latest/schema.nt#TechArticle\n",
      "Diego published Papo por rascunho de email não é o melhor jeito de ocultar informação (Motherboard). 2017. (Programa de rádio ou in 2017 of type http://schema.org/version/latest/schema.nt#TechArticle\n",
      "Diego published Ciberataque pode acontecer com qualquer pessoa', explica professor da Unicamp (Rádio Globo). 2017. (Programa de rádio ou in 2017 of type http://schema.org/version/latest/schema.nt#TechArticle\n",
      "Diego published O terrorismo das redes sociais (Exame). 2017. (Programa de rádio ou in 2017 of type http://schema.org/version/latest/schema.nt#TechArticle\n",
      "Diego published WhatsApp no STF (Segurança Legal). 2017. (Programa de rádio ou in 2017 of type http://schema.org/version/latest/schema.nt#TechArticle\n",
      "Diego published Impressão de voto vai custar R$ 2,5 bi, diz TSE (Estadão). 2017. (Programa de rádio ou in 2017 of type http://schema.org/version/latest/schema.nt#TechArticle\n",
      "Diego published A polêmica da segurança das urnas eletrônicas (Entre Aspas). 2017. (Programa de rádio ou in 2017 of type http://schema.org/version/latest/schema.nt#TechArticle\n",
      "Diego published O aparato tecnológico que protege Temer (Motherboard). 2017. (Programa de rádio ou in 2017 of type http://schema.org/version/latest/schema.nt#TechArticle\n",
      "Diego published Denúncia de fraude na Venezuela reacende debate: as urnas eletrônicas são seguras? (Gazeta do Povo). 2017. (Programa de rádio ou in 2017 of type http://schema.org/version/latest/schema.nt#TechArticle\n",
      "Diego published Segurança do voto eletrônico (Transamérica Brasília). 2017. (Programa de rádio ou in 2017 of type http://schema.org/version/latest/schema.nt#TechArticle\n",
      "Diego published Urnas eletrônicas: falhas, vulnerabilidades e fraudes do mesário (TecMundo). 2017. (Programa de rádio ou in 2017 of type http://schema.org/version/latest/schema.nt#TechArticle\n",
      "Diego published El especialista brasileño que descubrió las fallas del voto electrónico en su país (La Nación). 2017. (Programa de rádio ou in 2017 of type http://schema.org/version/latest/schema.nt#TechArticle\n",
      "Diego published Urnas eletrônicas brasileiras são confiáveis? (Tribuna do Advogado). 2017. (Programa de rádio ou in 2017 of type http://schema.org/version/latest/schema.nt#TechArticle\n",
      "Diego published O que muda caso o voto impresso seja aprovado para 2018 (HuffPost Brasil). 2017. (Programa de rádio ou in 2017 of type http://schema.org/version/latest/schema.nt#TechArticle\n",
      "Diego published Estes brasileiros querem salvar nossos computadores do caos quântico (Vice). 2017. (Programa de rádio ou in 2017 of type http://schema.org/version/latest/schema.nt#TechArticle\n",
      "Diego published Voto electrónico, democracia amenazada? (Otrawebdetecno). 2017. (Programa de rádio ou in 2017 of type http://schema.org/version/latest/schema.nt#TechArticle\n",
      "Diego published Error 404: vote not found (Puchero News). 2017. (Programa de rádio ou in 2017 of type http://schema.org/version/latest/schema.nt#TechArticle\n",
      "Diego published Especial Ekoparty 2017: hablemos de Voto electrónico? en serio (Tecnozona). 2017. (Programa de rádio ou in 2017 of type http://schema.org/version/latest/schema.nt#TechArticle\n",
      "Diego published Por qué el voto electrónico falló en Brasil (La Nación). 2017. (Programa de rádio ou in 2017 of type http://schema.org/version/latest/schema.nt#TechArticle\n",
      "Diego published Acabou o espaço? Saiba onde salvar as fotos do seu celular na internet (R7). 2017. (Programa de rádio ou in 2017 of type http://schema.org/version/latest/schema.nt#TechArticle\n",
      "Diego published Marco Civil da Internet: saiba como funciona a criptografia (Futura). 2017. (Programa de rádio ou in 2017 of type http://schema.org/version/latest/schema.nt#TechArticle\n",
      "Diego published Investigadores do TPS relatam experiência no evento e falam sobre achados relevantes encontrados (TSE). 2017. (Programa de rádio ou in 2017 of type http://schema.org/version/latest/schema.nt#TechArticle\n"
     ]
    },
    {
     "name": "stdout",
     "output_type": "stream",
     "text": [
      "Diego published Urnas eletrônicas brasileiras são testadas e apresentam novas falhas (TecMundo). 2017. (Programa de rádio ou in 2017 of type http://schema.org/version/latest/schema.nt#TechArticle\n",
      "Diego published Nova quebra de segurança conseguiu alterar software da urna eletrônica (Convergência Digital). 2017. (Programa de rádio ou in 2017 of type http://schema.org/version/latest/schema.nt#TechArticle\n",
      "Diego published Reportagem mostra como funciona app de mensagens alvo da Justiça (Fantástico). 2016. (Programa de rádio ou in 2016 of type http://schema.org/version/latest/schema.nt#TechArticle\n",
      "Diego published Vulnerabilidades, Criptografia e Urnas Eletrônicas - Parte I (SecurityCast). 2016. (Programa de rádio ou in 2016 of type http://schema.org/version/latest/schema.nt#TechArticle\n",
      "Diego published Vulnerabilidades, Criptografia e Urnas Eletrônicas - Parte II (SecurityCast). 2016. (Programa de rádio ou in 2016 of type http://schema.org/version/latest/schema.nt#TechArticle\n",
      "Diego published Internet fixa ilimitada pode estar com os dias contados no Brasil (Fantástico). 2016. (Programa de rádio ou in 2016 of type http://schema.org/version/latest/schema.nt#TechArticle\n",
      "Diego published Urna eletrônica é vulnerável, mostram testes (Congresso em Foco). 2016. (Programa de rádio ou in 2016 of type http://schema.org/version/latest/schema.nt#TechArticle\n",
      "Diego published Mesário pode alterar dados de urnas eletrônicas durante eleições, diz especialista (Bahia Notícias). 2016. (Programa de rádio ou in 2016 of type http://schema.org/version/latest/schema.nt#TechArticle\n",
      "Diego published Criptografia e Eleições (Papo Binário #4). 2016. (Programa de rádio ou in 2016 of type http://schema.org/version/latest/schema.nt#TechArticle\n",
      "Diego published Criptografia: entenda o que é e como funciona (G1). 2016. (Programa de rádio ou in 2016 of type http://schema.org/version/latest/schema.nt#TechArticle\n",
      "Diego published Blockchain e a inviolabilidade do voto (Estadão). 2016. (Programa de rádio ou in 2016 of type http://schema.org/version/latest/schema.nt#TechArticle\n",
      "Diego published Pesquisadores da Unicamp são premiados com bolsas do Google (Portal Unicamp). 2016. (Programa de rádio ou in 2016 of type http://schema.org/version/latest/schema.nt#TechArticle\n",
      "Diego published Hackers do bem' se reúnem em BH pela segurança na internet (SBT). 2016. (Programa de rádio ou in 2016 of type http://schema.org/version/latest/schema.nt#TechArticle\n",
      "Diego published ​Uma quadrilha pretendia ganhar dinheiro 'fraudando' as eleições. 2016. (Programa de rádio ou in 2016 of type http://schema.org/version/latest/schema.nt#TechArticle\n",
      "Diego published Internet a serviço da democracia (SEESP). 2016. (Programa de rádio ou in 2016 of type http://schema.org/version/latest/schema.nt#TechArticle\n",
      "Diego published Saiba como empresas e governos lutam para proteger (ou desbloquear) as suas informações (Galileu). 2016. (Programa de rádio ou in 2016 of type http://schema.org/version/latest/schema.nt#TechArticle\n",
      "Diego published Tecnologia biométrica está na moda, mas apresenta falhas (CBN). 2015. (Programa de rádio ou in 2015 of type http://schema.org/version/latest/schema.nt#TechArticle\n",
      "Diego published TSE fará testes periódicos da urna eletrônica; especialistas veem falta de isenção (UOL). 2015. (Programa de rádio ou in 2015 of type http://schema.org/version/latest/schema.nt#TechArticle\n",
      "Diego published Suas senhas são fortes contra invasão de hackers? (Diário Catarinense). 2015. (Programa de rádio ou in 2015 of type http://schema.org/version/latest/schema.nt#TechArticle\n",
      "Diego published Apps de bancos brasileiros têm deficiências de segurança, diz pesquisa (G1). 2015. (Programa de rádio ou in 2015 of type http://schema.org/version/latest/schema.nt#TechArticle\n",
      "Diego published Pesquisa da Unicamp mostra fragilidades de apps bancários (IO Pub). 2015. (Programa de rádio ou in 2015 of type http://schema.org/version/latest/schema.nt#TechArticle\n",
      "Diego published Pesquisa investigativa confirma falhas de segurança nas urnas eletrônicas do país (Gazeta AM). 2015. (Programa de rádio ou in 2015 of type http://schema.org/version/latest/schema.nt#TechArticle\n",
      "Diego published Avaliação de segurança de aplicativos bancários (Segurança Legal). 2015. (Programa de rádio ou in 2015 of type http://schema.org/version/latest/schema.nt#TechArticle\n",
      "Diego published Segurança da Urna Eletrônica (Segurança Legal). 2015. (Programa de rádio ou in 2015 of type http://schema.org/version/latest/schema.nt#TechArticle\n",
      "Diego published Google anuncia projetos de pesquisa vencedores de concurso no Brasil (Folha). 2015. (Programa de rádio ou in 2015 of type http://schema.org/version/latest/schema.nt#TechArticle\n",
      "Diego published Pesquisa feita na Unicamp é escolhida pelo Google (Correio Popular). 2015. (Programa de rádio ou in 2015 of type http://schema.org/version/latest/schema.nt#TechArticle\n",
      "Diego published Professor do IC é contemplado com bolsa de pesquisa da Google (Portal UNICAMP). 2015. (Programa de rádio ou in 2015 of type http://schema.org/version/latest/schema.nt#TechArticle\n",
      "Diego published Aumenta a espionagem no mundo conectado (IT Forum). 2015. (Programa de rádio ou in 2015 of type http://schema.org/version/latest/schema.nt#TechArticle\n",
      "Diego published Escovamos bits com Diego Aranha na UNICAMP (IO Pub). 2015. (Programa de rádio ou in 2015 of type http://schema.org/version/latest/schema.nt#TechArticle\n",
      "Diego published TSE aponta dificuldades para implementar voto impresso no país (G1). 2015. (Programa de rádio ou in 2015 of type http://schema.org/version/latest/schema.nt#TechArticle\n",
      "Diego published Academia versus Mercado ? Entrevista com Diego Aranha (IO Pub). 2015. (Programa de rádio ou in 2015 of type http://schema.org/version/latest/schema.nt#TechArticle\n",
      "Diego published Diego Aranha, 32, Criou uma plataforma para que a sociedade fiscalize o resultado das eleições (MIT Technology Review). 2015. (Programa de rádio ou in 2015 of type http://schema.org/version/latest/schema.nt#TechArticle\n",
      "Diego published Diego Aranha mostra que urnas eletrônicas não são tão confiáveis (Identidade Geral). 2015. (Programa de rádio ou in 2015 of type http://schema.org/version/latest/schema.nt#TechArticle\n",
      "Diego published Diego Aranha aponta falhas nos aplicativos de bancos (Identidade Geral). 2015. (Programa de rádio ou in 2015 of type http://schema.org/version/latest/schema.nt#TechArticle\n",
      "Diego published Professor da Computação é premiado por aplicativo que fiscaliza votação eletrônica (Portal UNICAMP). 2015. (Programa de rádio ou in 2015 of type http://schema.org/version/latest/schema.nt#TechArticle\n",
      "Diego published Senate NSA bill would expand requirements of phone companies (RT). 2015. (Programa de rádio ou in 2015 of type http://schema.org/version/latest/schema.nt#TechArticle\n",
      "Diego published Vitória do voto impresso não exclui a necessidade urgente de implantação da biometria (IIMA). 2015. (Programa de rádio ou in 2015 of type http://schema.org/version/latest/schema.nt#TechArticle\n",
      "Diego published Por um processo eleitoral mais confiável (Jornal de Brasília). 2015. (Programa de rádio ou in 2015 of type http://schema.org/version/latest/schema.nt#TechArticle\n",
      "Diego published Brazil cans e-voting due to recession (ZDNet). 2015. (Programa de rádio ou in 2015 of type http://schema.org/version/latest/schema.nt#TechArticle\n",
      "Diego published Urna eletrônica completa 18 anos com comemoração do TSE e preocupação de especialistas (Estado de Minas). 2014. (Programa de rádio ou in 2014 of type http://schema.org/version/latest/schema.nt#TechArticle\n",
      "Diego published Moeda tem origem em mina no computador (Estado de Minas). 2014. (Programa de rádio ou in 2014 of type http://schema.org/version/latest/schema.nt#TechArticle\n",
      "Diego published Depois de quebra do sigilo da urna, TSE evita novos testes (Convergência Digital). 2014. (Programa de rádio ou in 2014 of type http://schema.org/version/latest/schema.nt#TechArticle\n",
      "Diego published Urna eletrônica possui falhas (A Tarde). 2014. (Programa de rádio ou in 2014 of type http://schema.org/version/latest/schema.nt#TechArticle\n",
      "Diego published Especialistas divergem sobre segurança da urna eletrônica (RedeTV). 2014. (Programa de rádio ou in 2014 of type http://schema.org/version/latest/schema.nt#TechArticle\n",
      "Diego published Mais de 22 milhões de eleitores serão identificados por biometria (RedeTV). 2014. (Programa de rádio ou in 2014 of type http://schema.org/version/latest/schema.nt#TechArticle\n",
      "Diego published PR/SP encaminha a MP Eleitoral procedimento para verificar segurança de urnas eletrônicas no Brasil (ASCOM-PRSP). 2014. (Programa de rádio ou in 2014 of type http://schema.org/version/latest/schema.nt#TechArticle\n",
      "Diego published TSE não fará teste público das urnas eletrônicas antes das eleições (O Globo). 2014. (Programa de rádio ou in 2014 of type http://schema.org/version/latest/schema.nt#TechArticle\n",
      "Diego published Eleição no RS terá 27.049 urnas (Sul 21). 2014. (Programa de rádio ou in 2014 of type http://schema.org/version/latest/schema.nt#TechArticle\n",
      "Diego published Falha em site expõe dados de 500 mil servidores públicos de SP (Folha). 2014. (Programa de rádio ou in 2014 of type http://schema.org/version/latest/schema.nt#TechArticle\n",
      "Diego published Aplicativo para fiscalizar eleição arrecada R$ 30 mil em doações (G1). 2014. (Programa de rádio ou in 2014 of type http://schema.org/version/latest/schema.nt#TechArticle\n"
     ]
    },
    {
     "name": "stdout",
     "output_type": "stream",
     "text": [
      "Diego published Aplicativo para celular vai fiscalizar a urna eletrônica (Jornal de Londrina). 2014. (Programa de rádio ou in 2014 of type http://schema.org/version/latest/schema.nt#TechArticle\n",
      "Diego published Você Fiscal: aplicativo quer apuração paralela das eleições (Contas Abertas). 2014. (Programa de rádio ou in 2014 of type http://schema.org/version/latest/schema.nt#TechArticle\n",
      "Diego published Campanha vai criar aplicativo para fiscalizar eleições (Correio Braziliense). 2014. (Programa de rádio ou in 2014 of type http://schema.org/version/latest/schema.nt#TechArticle\n",
      "Diego published Professores da Unicamp e do MIT desenvolvem aplicativos para eleições mais transparentes (O Globo). 2014. (Programa de rádio ou in 2014 of type http://schema.org/version/latest/schema.nt#TechArticle\n",
      "Diego published Brasileiros colocam a mão no bolso para fiscalizar eleição e cobrar eleitos (IG). 2014. (Programa de rádio ou in 2014 of type http://schema.org/version/latest/schema.nt#TechArticle\n",
      "Diego published Após apontar falha, professor planeja criar urna eletrônica 'ideal' na Unicamp (G1). 2014. (Programa de rádio ou in 2014 of type http://schema.org/version/latest/schema.nt#TechArticle\n",
      "Diego published App Você Fiscal vai fazer apuração paralela das eleições (Exame). 2014. (Programa de rádio ou in 2014 of type http://schema.org/version/latest/schema.nt#TechArticle\n",
      "Diego published Professor da Unicamp lança aplicativo que identifica fraudes em urnas eletrônicas (InfoMoney). 2014. (Programa de rádio ou in 2014 of type http://schema.org/version/latest/schema.nt#TechArticle\n",
      "Diego published App promete barrar fraude na apuração em eleições (Catraca Livre). 2014. (Programa de rádio ou in 2014 of type http://schema.org/version/latest/schema.nt#TechArticle\n",
      "Diego published (In)segurança das urnas eletrônicas (The Noite). 2014. (Programa de rádio ou in 2014 of type http://schema.org/version/latest/schema.nt#TechArticle\n",
      "Diego published Teste feito por especialistas aponta falhas em urna eletrônica (Record). 2014. (Programa de rádio ou in 2014 of type http://schema.org/version/latest/schema.nt#TechArticle\n",
      "Diego published Aplicativos ajudam eleitores na busca pelo voto consciente, dizem especialistas (Portal Imprensa). 2014. (Programa de rádio ou in 2014 of type http://schema.org/version/latest/schema.nt#TechArticle\n",
      "Diego published Fraudes e falta de auditoria deixam urna vulnerável, apontam especialistas (UOL). 2014. (Programa de rádio ou in 2014 of type http://schema.org/version/latest/schema.nt#TechArticle\n",
      "Diego published Aplicativo de celular fiscaliza a eficiência da urna eletrônica (El País). 2014. (Programa de rádio ou in 2014 of type http://schema.org/version/latest/schema.nt#TechArticle\n",
      "Diego published Aplicativo incentiva eleitores a fiscalizar urnas eletrônicas (O Globo). 2014. (Programa de rádio ou in 2014 of type http://schema.org/version/latest/schema.nt#TechArticle\n",
      "Diego published App ajuda a auditar os resultados da urna eletrônica no seu local de votação. 2014. (Programa de rádio ou in 2014 of type http://schema.org/version/latest/schema.nt#TechArticle\n",
      "Diego published App 'Você Fiscal' convida cidadão a fiscalizar a apuração das eleições (EBC). 2014. (Programa de rádio ou in 2014 of type http://schema.org/version/latest/schema.nt#TechArticle\n",
      "Diego published Você Fiscal, uma ferramenta para conferência paralela da votação (Estadão). 2014. (Programa de rádio ou in 2014 of type http://schema.org/version/latest/schema.nt#TechArticle\n",
      "Diego published Eleições 2014: professor afirma existir algumas falhas na urna eletrônica (Record). 2014. (Programa de rádio ou in 2014 of type http://schema.org/version/latest/schema.nt#TechArticle\n",
      "Diego published Segurança no Voto Eletrônico (TV Unicamp). 2014. (Programa de rádio ou in 2014 of type http://schema.org/version/latest/schema.nt#TechArticle\n",
      "Diego published O homem contra a urna eletrônica (Motherboard). 2014. (Programa de rádio ou in 2014 of type http://schema.org/version/latest/schema.nt#TechArticle\n",
      "Diego published Fraud possible in Brazil's e-voting system (ZDNet). 2014. (Programa de rádio ou in 2014 of type http://schema.org/version/latest/schema.nt#TechArticle\n",
      "Diego published A urna eletrônica que está em uso compromete a segurança do voto (Trendline). 2013. (Programa de rádio ou in 2013 of type http://schema.org/version/latest/schema.nt#TechArticle\n",
      "Diego published Sistema Eleitoral Brasileiro (Conexão Brasil). 2013. (Programa de rádio ou in 2013 of type http://schema.org/version/latest/schema.nt#TechArticle\n",
      "Diego published Especialista questiona funcionalidade da urna para plebiscito (G1). 2013. (Programa de rádio ou in 2013 of type http://schema.org/version/latest/schema.nt#TechArticle\n",
      "Diego published Urnas fechadas para TI (América Economia). 2013. (Programa de rádio ou in 2013 of type http://schema.org/version/latest/schema.nt#TechArticle\n",
      "Diego published Especialistas defendem voto impresso para recontagem de resultado de eleição. 2013. (Programa de rádio ou in 2013 of type http://schema.org/version/latest/schema.nt#TechArticle\n",
      "Diego published Serpro: um guardião contra a bisbilhotagem eletrônica (O Globo). 2013. (Programa de rádio ou in 2013 of type http://schema.org/version/latest/schema.nt#TechArticle\n",
      "Diego published Hackers na Câmara (TV Câmara). 2013. (Programa de rádio ou in 2013 of type http://schema.org/version/latest/schema.nt#TechArticle\n",
      "Diego published Biometria não garante sistema eleitoral mais seguro na hora de votar (Estadão). 2013. (Programa de rádio ou in 2013 of type http://schema.org/version/latest/schema.nt#TechArticle\n",
      "Diego published Embrapa usa sistema de segurança da NSA (Folha). 2013. (Programa de rádio ou in 2013 of type http://schema.org/version/latest/schema.nt#TechArticle\n",
      "Diego published Como funcionam as urnas eletrônicas (Globo Ciência). 2012. (Programa de rádio ou in 2012 of type http://schema.org/version/latest/schema.nt#TechArticle\n",
      "Diego published As urnas são seguras mesmo? (IstoÉ). 2012. (Programa de rádio ou in 2012 of type http://schema.org/version/latest/schema.nt#TechArticle\n",
      "Diego published Internet-based and open source: How e-voting works around the globe (Ars Technica). 2012. (Programa de rádio ou in 2012 of type http://schema.org/version/latest/schema.nt#TechArticle\n",
      "Diego published Falha na urna brasileira reproduzia fielmente erro de 1995, diz professor (G1). 2012. (Programa de rádio ou in 2012 of type http://schema.org/version/latest/schema.nt#TechArticle\n",
      "Diego published Urna é a mais defasada, diz professor que violou sistema do TSE (Terra). 2012. (Programa de rádio ou in 2012 of type http://schema.org/version/latest/schema.nt#TechArticle\n",
      "Diego published Professor: urna brasileira abre brecha para voto de cabresto (Terra). 2012. (Programa de rádio ou in 2012 of type http://schema.org/version/latest/schema.nt#TechArticle\n",
      "Diego published Críticos pedem mudanças em votação eletrônica; TSE defende modelo atual (Folha). 2012. (Programa de rádio ou in 2012 of type http://schema.org/version/latest/schema.nt#TechArticle\n",
      "Diego published Você confia na urna eletrônica? (GQ). 2012. (Programa de rádio ou in 2012 of type http://schema.org/version/latest/schema.nt#TechArticle\n",
      "Diego published Fragilidade de urna abre caminho para voto de cabresto digital (Viomundo). 2012. (Programa de rádio ou in 2012 of type http://schema.org/version/latest/schema.nt#TechArticle\n",
      "Diego published Urna eletrônica brasileira não assegura sigilo de voto (Terra). 2012. (Programa de rádio ou in 2012 of type http://schema.org/version/latest/schema.nt#TechArticle\n",
      "Diego published Progress in Cryptology - LATINCRYPT 2014 in 2015 of type http://schema.org/version/latest/schema.nt#Book\n",
      "Diego published Anais do XIV Simpósio Brasileiro em Segurança da Informação e de Sistemas Computacionais (SBSEG) in 2014 of type http://schema.org/version/latest/schema.nt#Book\n",
      "Diego published O Computador para o Século 21: Desafios de Segurança e Privacidade após 25 anos in 2017 of type http://schema.org/version/latest/schema.nt#Book\n",
      "Diego published Software implementation in 2016 of type http://schema.org/version/latest/schema.nt#Book\n",
      "Diego published Canais laterais em criptografia simétrica e de curvas elípticas: ataques e contramedidas in 2016 of type http://schema.org/version/latest/schema.nt#Book\n",
      "Diego published Implementação Eficiente e Segura de Algoritmos Criptográficos in 2015 of type http://schema.org/version/latest/schema.nt#Book\n",
      "Diego published Software Vulnerabilities in the Brazilian Voting Machine in 2014 of type http://schema.org/version/latest/schema.nt#Book\n",
      "Diego published On the Identity-Based Encryption for WM²Nets in 2008 of type http://schema.org/version/latest/schema.nt#Book\n"
     ]
    }
   ],
   "source": [
    "qres = graph.query(\n",
    "    \"\"\"\n",
    "    SELECT \n",
    "        ?author\n",
    "        ?name\n",
    "        ?year\n",
    "        ?type\n",
    "    WHERE {\n",
    "        ?project schema:author ?uri .\n",
    "        ?uri schema:givenName ?author .\n",
    "        ?project schema:datePublished ?year .\n",
    "        ?project schema:type ?type .\n",
    "        ?project schema:name ?name .\n",
    "    }\n",
    "\"\"\",\n",
    "    initNs={\"schema\": schema},\n",
    ")\n",
    "\n",
    "for row in qres:\n",
    "    print(\"%s published %s in %s of type %s\" % row)"
   ]
  },
  {
   "cell_type": "markdown",
   "metadata": {},
   "source": [
    "## Parse all the cache folder and load it to graph"
   ]
  },
  {
   "cell_type": "code",
   "execution_count": 32,
   "metadata": {
    "ExecuteTime": {
     "end_time": "2019-10-07T21:29:46.190105Z",
     "start_time": "2019-10-07T21:29:46.186961Z"
    }
   },
   "outputs": [],
   "source": [
    "from os import listdir\n",
    "from os.path import isfile, join"
   ]
  },
  {
   "cell_type": "code",
   "execution_count": 33,
   "metadata": {
    "ExecuteTime": {
     "end_time": "2019-10-07T21:29:46.830102Z",
     "start_time": "2019-10-07T21:29:46.449624Z"
    }
   },
   "outputs": [],
   "source": [
    "basePath = \"./cache/\"\n",
    "\n",
    "files_names = [f for f in listdir(basePath) if isfile(join(basePath, f))]"
   ]
  },
  {
   "cell_type": "code",
   "execution_count": 34,
   "metadata": {
    "ExecuteTime": {
     "end_time": "2019-10-07T21:30:04.969716Z",
     "start_time": "2019-10-07T21:29:47.430152Z"
    }
   },
   "outputs": [
    {
     "name": "stdout",
     "output_type": "stream",
     "text": [
      "7788\n"
     ]
    }
   ],
   "source": [
    "not_lattes_pages = []\n",
    "for lattes_page in files_names:\n",
    "    with open(basePath + lattes_page, encoding=\"iso-8859-1\") as f:\n",
    "        if \"possivel baixar\" in f.read():\n",
    "            not_lattes_pages.append(lattes_page)\n",
    "\n",
    "print(len(not_lattes_pages))"
   ]
  },
  {
   "cell_type": "code",
   "execution_count": 35,
   "metadata": {
    "ExecuteTime": {
     "end_time": "2019-10-07T21:30:24.952498Z",
     "start_time": "2019-10-07T21:30:09.378064Z"
    }
   },
   "outputs": [],
   "source": [
    "lattes_profile_list = [x for x in files_names if x not in not_lattes_pages]"
   ]
  },
  {
   "cell_type": "code",
   "execution_count": 37,
   "metadata": {
    "ExecuteTime": {
     "end_time": "2019-10-07T21:31:48.384856Z",
     "start_time": "2019-10-07T21:31:48.131798Z"
    }
   },
   "outputs": [
    {
     "name": "stdout",
     "output_type": "stream",
     "text": [
      "Creating the file to output: sqlite:////root/work/experiments/tcc/python_lattes_parser/pythonLattes/knowlattes_graph_final.sqlite\n"
     ]
    },
    {
     "data": {
      "text/plain": [
       "1"
      ]
     },
     "execution_count": 37,
     "metadata": {},
     "output_type": "execute_result"
    }
   ],
   "source": [
    "schema = Namespace(\"http://schema.org/version/latest/schema.nt#\")\n",
    "\n",
    "SQLALCHEMY_URL = \"sqlite:///%(here)s/knowlattes_graph_final.sqlite\" % {\"here\": os.getcwd()}\n",
    "print(f\"Creating the file to output: {SQLALCHEMY_URL}\")\n",
    "store = plugin.get(\"SQLAlchemy\", Store)()\n",
    "\n",
    "new_graph = Graph(store)\n",
    "new_graph.open(SQLALCHEMY_URL, create=True)"
   ]
  },
  {
   "cell_type": "code",
   "execution_count": null,
   "metadata": {
    "ExecuteTime": {
     "start_time": "2019-10-07T21:34:25.967Z"
    }
   },
   "outputs": [
    {
     "data": {
      "application/vnd.jupyter.widget-view+json": {
       "model_id": "d6322be6331f4dd6a33f3807f589d1eb",
       "version_major": 2,
       "version_minor": 0
      },
      "text/plain": [
       "HBox(children=(IntProgress(value=0, max=10000), HTML(value='')))"
      ]
     },
     "metadata": {},
     "output_type": "display_data"
    }
   ],
   "source": [
    "%%time\n",
    "number_profiles_iterartion = 10000 # len(lattes_profile_list) #100 # If loading al the files, pass len(lattes_profile_list)\n",
    "\n",
    "for lattes_page in tqdm_notebook(lattes_profile_list[:number_profiles_iterartion]):\n",
    "    lattes_id = re.sub('.html', '', lattes_page)\n",
    "    \n",
    "    file = open(basePath+lattes_page, 'r',  encoding=\"ISO-8859-1\")\n",
    "    lattes_file = file.read()\n",
    "    file.close()\n",
    "\n",
    "    lattes_page = ParserLattes(lattes_id, lattes_file)\n",
    "    \n",
    "    add_lattes_reasercher_to_graph(new_graph, lattes_page, schema)"
   ]
  },
  {
   "cell_type": "code",
   "execution_count": 41,
   "metadata": {
    "ExecuteTime": {
     "end_time": "2019-10-08T13:40:25.781060Z",
     "start_time": "2019-10-08T13:40:25.777204Z"
    }
   },
   "outputs": [
    {
     "name": "stdout",
     "output_type": "stream",
     "text": [
      "Done\n"
     ]
    }
   ],
   "source": [
    "print(\"Done\")"
   ]
  },
  {
   "cell_type": "code",
   "execution_count": 42,
   "metadata": {
    "ExecuteTime": {
     "end_time": "2019-10-08T13:44:05.251476Z",
     "start_time": "2019-10-08T13:40:45.939869Z"
    }
   },
   "outputs": [],
   "source": [
    "new_graph.serialize(destination='./new_graph.n3', format='n3')"
   ]
  },
  {
   "cell_type": "code",
   "execution_count": 43,
   "metadata": {
    "ExecuteTime": {
     "end_time": "2019-10-08T13:48:54.091281Z",
     "start_time": "2019-10-08T13:48:54.077570Z"
    }
   },
   "outputs": [
    {
     "name": "stderr",
     "output_type": "stream",
     "text": [
      "/root/.local/lib/python3.6/site-packages/rdflib_sqlalchemy/sql.py:56: SADeprecationWarning: The FromClause.count() method is deprecated, and will be removed in a future release.   Please use the functions.count function available from the func namespace.\n",
      "  selectClause = table.count(whereClause)\n"
     ]
    },
    {
     "data": {
      "text/plain": [
       "45207"
      ]
     },
     "execution_count": 43,
     "metadata": {},
     "output_type": "execute_result"
    }
   ],
   "source": [
    "len(new_graph)"
   ]
  },
  {
   "cell_type": "code",
   "execution_count": 25,
   "metadata": {
    "ExecuteTime": {
     "end_time": "2019-10-07T21:25:59.831782Z",
     "start_time": "2019-10-07T21:25:59.829135Z"
    }
   },
   "outputs": [],
   "source": [
    "new_graph.close()"
   ]
  },
  {
   "cell_type": "markdown",
   "metadata": {},
   "source": [
    "## Loading the Graph"
   ]
  },
  {
   "cell_type": "code",
   "execution_count": null,
   "metadata": {
    "ExecuteTime": {
     "end_time": "2019-10-06T22:30:41.971736Z",
     "start_time": "2019-10-06T22:30:41.960486Z"
    }
   },
   "outputs": [],
   "source": [
    "%%time\n",
    "\n",
    "schema = Namespace(\"http://schema.org/version/latest/schema.nt#\")\n",
    "\n",
    "SQLALCHEMY_URL = \"sqlite:///%(here)s/knowlattes_graph.sqlite\" % {\"here\": os.getcwd()}\n",
    "print(f\"{SQLALCHEMY_URL}\")\n",
    "store = plugin.get(\"SQLAlchemy\", Store)()\n",
    "\n",
    "graph = Graph(store)\n",
    "graph.open(SQLALCHEMY_URL, create=True)"
   ]
  },
  {
   "cell_type": "code",
   "execution_count": null,
   "metadata": {
    "ExecuteTime": {
     "end_time": "2019-10-06T22:30:42.592284Z",
     "start_time": "2019-10-06T22:30:42.584002Z"
    }
   },
   "outputs": [],
   "source": [
    "for i in graph:\n",
    "    print(i)"
   ]
  },
  {
   "cell_type": "code",
   "execution_count": null,
   "metadata": {},
   "outputs": [],
   "source": [
    "qres = graph.query(\"\"\"\n",
    "    SELECT \n",
    "        ?author\n",
    "        ?name\n",
    "        ?year\n",
    "        ?type\n",
    "    WHERE {\n",
    "        ?project schema:author ?uri .\n",
    "        ?uri schema:givenName ?author .\n",
    "        ?project schema:datePublished ?year .\n",
    "        ?project schema:type ?type .\n",
    "        ?project schema:name ?name .\n",
    "    }\n",
    "\"\"\",\n",
    "    initNs={'schema': schema}\n",
    ")"
   ]
  },
  {
   "cell_type": "markdown",
   "metadata": {},
   "source": [
    "### Merging graphs\n",
    " - https://rdflib.readthedocs.io/en/stable/merging.html"
   ]
  },
  {
   "cell_type": "code",
   "execution_count": null,
   "metadata": {},
   "outputs": [],
   "source": []
  },
  {
   "cell_type": "markdown",
   "metadata": {},
   "source": [
    "# Testing"
   ]
  },
  {
   "cell_type": "code",
   "execution_count": null,
   "metadata": {},
   "outputs": [],
   "source": []
  }
 ],
 "metadata": {
  "hide_input": false,
  "kernelspec": {
   "display_name": "Python 3",
   "language": "python",
   "name": "python3"
  },
  "language_info": {
   "codemirror_mode": {
    "name": "ipython",
    "version": 3
   },
   "file_extension": ".py",
   "mimetype": "text/x-python",
   "name": "python",
   "nbconvert_exporter": "python",
   "pygments_lexer": "ipython3",
   "version": "3.6.6"
  },
  "toc": {
   "base_numbering": 1,
   "nav_menu": {},
   "number_sections": true,
   "sideBar": true,
   "skip_h1_title": false,
   "title_cell": "Table of Contents",
   "title_sidebar": "Contents",
   "toc_cell": false,
   "toc_position": {},
   "toc_section_display": true,
   "toc_window_display": false
  },
  "varInspector": {
   "cols": {
    "lenName": 16,
    "lenType": 16,
    "lenVar": 40
   },
   "kernels_config": {
    "python": {
     "delete_cmd_postfix": "",
     "delete_cmd_prefix": "del ",
     "library": "var_list.py",
     "varRefreshCmd": "print(var_dic_list())"
    },
    "r": {
     "delete_cmd_postfix": ") ",
     "delete_cmd_prefix": "rm(",
     "library": "var_list.r",
     "varRefreshCmd": "cat(var_dic_list()) "
    }
   },
   "types_to_exclude": [
    "module",
    "function",
    "builtin_function_or_method",
    "instance",
    "_Feature"
   ],
   "window_display": false
  }
 },
 "nbformat": 4,
 "nbformat_minor": 2
}
